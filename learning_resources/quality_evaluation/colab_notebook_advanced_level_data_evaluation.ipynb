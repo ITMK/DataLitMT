{
  "nbformat": 4,
  "nbformat_minor": 0,
  "metadata": {
    "colab": {
      "provenance": []
    },
    "kernelspec": {
      "name": "python3",
      "display_name": "Python 3"
    },
    "widgets": {
      "application/vnd.jupyter.widget-state+json": {
        "adb76a3e0f71474da9fd74b9e4a07f85": {
          "model_module": "@jupyter-widgets/controls",
          "model_name": "HBoxModel",
          "model_module_version": "1.5.0",
          "state": {
            "_dom_classes": [],
            "_model_module": "@jupyter-widgets/controls",
            "_model_module_version": "1.5.0",
            "_model_name": "HBoxModel",
            "_view_count": null,
            "_view_module": "@jupyter-widgets/controls",
            "_view_module_version": "1.5.0",
            "_view_name": "HBoxView",
            "box_style": "",
            "children": [
              "IPY_MODEL_251bf23bb60b47d39dc99116ba30b4d4",
              "IPY_MODEL_1e7f38991caa46e8b2d4c1823a516b73",
              "IPY_MODEL_dce877221c5d4fcc8546b7aeacaa6ff9"
            ],
            "layout": "IPY_MODEL_52b3c9fc0c644f7999fe901a924a5061"
          }
        },
        "251bf23bb60b47d39dc99116ba30b4d4": {
          "model_module": "@jupyter-widgets/controls",
          "model_name": "HTMLModel",
          "model_module_version": "1.5.0",
          "state": {
            "_dom_classes": [],
            "_model_module": "@jupyter-widgets/controls",
            "_model_module_version": "1.5.0",
            "_model_name": "HTMLModel",
            "_view_count": null,
            "_view_module": "@jupyter-widgets/controls",
            "_view_module_version": "1.5.0",
            "_view_name": "HTMLView",
            "description": "",
            "description_tooltip": null,
            "layout": "IPY_MODEL_3bd5e5a44e524d0cad22c8fd65066fa2",
            "placeholder": "​",
            "style": "IPY_MODEL_397766ce190a4af8a6178b217650f90d",
            "value": "Downloading (…)lve/main/config.json: 100%"
          }
        },
        "1e7f38991caa46e8b2d4c1823a516b73": {
          "model_module": "@jupyter-widgets/controls",
          "model_name": "FloatProgressModel",
          "model_module_version": "1.5.0",
          "state": {
            "_dom_classes": [],
            "_model_module": "@jupyter-widgets/controls",
            "_model_module_version": "1.5.0",
            "_model_name": "FloatProgressModel",
            "_view_count": null,
            "_view_module": "@jupyter-widgets/controls",
            "_view_module_version": "1.5.0",
            "_view_name": "ProgressView",
            "bar_style": "success",
            "description": "",
            "description_tooltip": null,
            "layout": "IPY_MODEL_69e3b60f9a3644bdb708077b440fa2dc",
            "max": 482,
            "min": 0,
            "orientation": "horizontal",
            "style": "IPY_MODEL_fba3f50fcd0d43bda58f86fbece37851",
            "value": 482
          }
        },
        "dce877221c5d4fcc8546b7aeacaa6ff9": {
          "model_module": "@jupyter-widgets/controls",
          "model_name": "HTMLModel",
          "model_module_version": "1.5.0",
          "state": {
            "_dom_classes": [],
            "_model_module": "@jupyter-widgets/controls",
            "_model_module_version": "1.5.0",
            "_model_name": "HTMLModel",
            "_view_count": null,
            "_view_module": "@jupyter-widgets/controls",
            "_view_module_version": "1.5.0",
            "_view_name": "HTMLView",
            "description": "",
            "description_tooltip": null,
            "layout": "IPY_MODEL_d31605b6bf194ecfa1599216a2cba724",
            "placeholder": "​",
            "style": "IPY_MODEL_9346091f7e694edbbc9606c9a8a78513",
            "value": " 482/482 [00:00&lt;00:00, 15.9kB/s]"
          }
        },
        "52b3c9fc0c644f7999fe901a924a5061": {
          "model_module": "@jupyter-widgets/base",
          "model_name": "LayoutModel",
          "model_module_version": "1.2.0",
          "state": {
            "_model_module": "@jupyter-widgets/base",
            "_model_module_version": "1.2.0",
            "_model_name": "LayoutModel",
            "_view_count": null,
            "_view_module": "@jupyter-widgets/base",
            "_view_module_version": "1.2.0",
            "_view_name": "LayoutView",
            "align_content": null,
            "align_items": null,
            "align_self": null,
            "border": null,
            "bottom": null,
            "display": null,
            "flex": null,
            "flex_flow": null,
            "grid_area": null,
            "grid_auto_columns": null,
            "grid_auto_flow": null,
            "grid_auto_rows": null,
            "grid_column": null,
            "grid_gap": null,
            "grid_row": null,
            "grid_template_areas": null,
            "grid_template_columns": null,
            "grid_template_rows": null,
            "height": null,
            "justify_content": null,
            "justify_items": null,
            "left": null,
            "margin": null,
            "max_height": null,
            "max_width": null,
            "min_height": null,
            "min_width": null,
            "object_fit": null,
            "object_position": null,
            "order": null,
            "overflow": null,
            "overflow_x": null,
            "overflow_y": null,
            "padding": null,
            "right": null,
            "top": null,
            "visibility": null,
            "width": null
          }
        },
        "3bd5e5a44e524d0cad22c8fd65066fa2": {
          "model_module": "@jupyter-widgets/base",
          "model_name": "LayoutModel",
          "model_module_version": "1.2.0",
          "state": {
            "_model_module": "@jupyter-widgets/base",
            "_model_module_version": "1.2.0",
            "_model_name": "LayoutModel",
            "_view_count": null,
            "_view_module": "@jupyter-widgets/base",
            "_view_module_version": "1.2.0",
            "_view_name": "LayoutView",
            "align_content": null,
            "align_items": null,
            "align_self": null,
            "border": null,
            "bottom": null,
            "display": null,
            "flex": null,
            "flex_flow": null,
            "grid_area": null,
            "grid_auto_columns": null,
            "grid_auto_flow": null,
            "grid_auto_rows": null,
            "grid_column": null,
            "grid_gap": null,
            "grid_row": null,
            "grid_template_areas": null,
            "grid_template_columns": null,
            "grid_template_rows": null,
            "height": null,
            "justify_content": null,
            "justify_items": null,
            "left": null,
            "margin": null,
            "max_height": null,
            "max_width": null,
            "min_height": null,
            "min_width": null,
            "object_fit": null,
            "object_position": null,
            "order": null,
            "overflow": null,
            "overflow_x": null,
            "overflow_y": null,
            "padding": null,
            "right": null,
            "top": null,
            "visibility": null,
            "width": null
          }
        },
        "397766ce190a4af8a6178b217650f90d": {
          "model_module": "@jupyter-widgets/controls",
          "model_name": "DescriptionStyleModel",
          "model_module_version": "1.5.0",
          "state": {
            "_model_module": "@jupyter-widgets/controls",
            "_model_module_version": "1.5.0",
            "_model_name": "DescriptionStyleModel",
            "_view_count": null,
            "_view_module": "@jupyter-widgets/base",
            "_view_module_version": "1.2.0",
            "_view_name": "StyleView",
            "description_width": ""
          }
        },
        "69e3b60f9a3644bdb708077b440fa2dc": {
          "model_module": "@jupyter-widgets/base",
          "model_name": "LayoutModel",
          "model_module_version": "1.2.0",
          "state": {
            "_model_module": "@jupyter-widgets/base",
            "_model_module_version": "1.2.0",
            "_model_name": "LayoutModel",
            "_view_count": null,
            "_view_module": "@jupyter-widgets/base",
            "_view_module_version": "1.2.0",
            "_view_name": "LayoutView",
            "align_content": null,
            "align_items": null,
            "align_self": null,
            "border": null,
            "bottom": null,
            "display": null,
            "flex": null,
            "flex_flow": null,
            "grid_area": null,
            "grid_auto_columns": null,
            "grid_auto_flow": null,
            "grid_auto_rows": null,
            "grid_column": null,
            "grid_gap": null,
            "grid_row": null,
            "grid_template_areas": null,
            "grid_template_columns": null,
            "grid_template_rows": null,
            "height": null,
            "justify_content": null,
            "justify_items": null,
            "left": null,
            "margin": null,
            "max_height": null,
            "max_width": null,
            "min_height": null,
            "min_width": null,
            "object_fit": null,
            "object_position": null,
            "order": null,
            "overflow": null,
            "overflow_x": null,
            "overflow_y": null,
            "padding": null,
            "right": null,
            "top": null,
            "visibility": null,
            "width": null
          }
        },
        "fba3f50fcd0d43bda58f86fbece37851": {
          "model_module": "@jupyter-widgets/controls",
          "model_name": "ProgressStyleModel",
          "model_module_version": "1.5.0",
          "state": {
            "_model_module": "@jupyter-widgets/controls",
            "_model_module_version": "1.5.0",
            "_model_name": "ProgressStyleModel",
            "_view_count": null,
            "_view_module": "@jupyter-widgets/base",
            "_view_module_version": "1.2.0",
            "_view_name": "StyleView",
            "bar_color": null,
            "description_width": ""
          }
        },
        "d31605b6bf194ecfa1599216a2cba724": {
          "model_module": "@jupyter-widgets/base",
          "model_name": "LayoutModel",
          "model_module_version": "1.2.0",
          "state": {
            "_model_module": "@jupyter-widgets/base",
            "_model_module_version": "1.2.0",
            "_model_name": "LayoutModel",
            "_view_count": null,
            "_view_module": "@jupyter-widgets/base",
            "_view_module_version": "1.2.0",
            "_view_name": "LayoutView",
            "align_content": null,
            "align_items": null,
            "align_self": null,
            "border": null,
            "bottom": null,
            "display": null,
            "flex": null,
            "flex_flow": null,
            "grid_area": null,
            "grid_auto_columns": null,
            "grid_auto_flow": null,
            "grid_auto_rows": null,
            "grid_column": null,
            "grid_gap": null,
            "grid_row": null,
            "grid_template_areas": null,
            "grid_template_columns": null,
            "grid_template_rows": null,
            "height": null,
            "justify_content": null,
            "justify_items": null,
            "left": null,
            "margin": null,
            "max_height": null,
            "max_width": null,
            "min_height": null,
            "min_width": null,
            "object_fit": null,
            "object_position": null,
            "order": null,
            "overflow": null,
            "overflow_x": null,
            "overflow_y": null,
            "padding": null,
            "right": null,
            "top": null,
            "visibility": null,
            "width": null
          }
        },
        "9346091f7e694edbbc9606c9a8a78513": {
          "model_module": "@jupyter-widgets/controls",
          "model_name": "DescriptionStyleModel",
          "model_module_version": "1.5.0",
          "state": {
            "_model_module": "@jupyter-widgets/controls",
            "_model_module_version": "1.5.0",
            "_model_name": "DescriptionStyleModel",
            "_view_count": null,
            "_view_module": "@jupyter-widgets/base",
            "_view_module_version": "1.2.0",
            "_view_name": "StyleView",
            "description_width": ""
          }
        },
        "34f1c0b1013e4f7daacf2fe2c6b48768": {
          "model_module": "@jupyter-widgets/controls",
          "model_name": "HBoxModel",
          "model_module_version": "1.5.0",
          "state": {
            "_dom_classes": [],
            "_model_module": "@jupyter-widgets/controls",
            "_model_module_version": "1.5.0",
            "_model_name": "HBoxModel",
            "_view_count": null,
            "_view_module": "@jupyter-widgets/controls",
            "_view_module_version": "1.5.0",
            "_view_name": "HBoxView",
            "box_style": "",
            "children": [
              "IPY_MODEL_2a0306c56b2f4fa1b79db5337f269cc1",
              "IPY_MODEL_1a596cc99dc546c991afa930e83704ca",
              "IPY_MODEL_8328190ce90d40fab275ce8dd8a6ffba"
            ],
            "layout": "IPY_MODEL_c1ecef871cc549c099d2844e6769bf90"
          }
        },
        "2a0306c56b2f4fa1b79db5337f269cc1": {
          "model_module": "@jupyter-widgets/controls",
          "model_name": "HTMLModel",
          "model_module_version": "1.5.0",
          "state": {
            "_dom_classes": [],
            "_model_module": "@jupyter-widgets/controls",
            "_model_module_version": "1.5.0",
            "_model_name": "HTMLModel",
            "_view_count": null,
            "_view_module": "@jupyter-widgets/controls",
            "_view_module_version": "1.5.0",
            "_view_name": "HTMLView",
            "description": "",
            "description_tooltip": null,
            "layout": "IPY_MODEL_d7571bb179a347639c2337dab3c35000",
            "placeholder": "​",
            "style": "IPY_MODEL_08d48a633d1d4e77978fbc55528ed396",
            "value": "Downloading (…)olve/main/vocab.json: 100%"
          }
        },
        "1a596cc99dc546c991afa930e83704ca": {
          "model_module": "@jupyter-widgets/controls",
          "model_name": "FloatProgressModel",
          "model_module_version": "1.5.0",
          "state": {
            "_dom_classes": [],
            "_model_module": "@jupyter-widgets/controls",
            "_model_module_version": "1.5.0",
            "_model_name": "FloatProgressModel",
            "_view_count": null,
            "_view_module": "@jupyter-widgets/controls",
            "_view_module_version": "1.5.0",
            "_view_name": "ProgressView",
            "bar_style": "success",
            "description": "",
            "description_tooltip": null,
            "layout": "IPY_MODEL_6928e1c11c5f436aabd8cbcc7d30da78",
            "max": 898823,
            "min": 0,
            "orientation": "horizontal",
            "style": "IPY_MODEL_1020bc44df284cb4bb90edb831740758",
            "value": 898823
          }
        },
        "8328190ce90d40fab275ce8dd8a6ffba": {
          "model_module": "@jupyter-widgets/controls",
          "model_name": "HTMLModel",
          "model_module_version": "1.5.0",
          "state": {
            "_dom_classes": [],
            "_model_module": "@jupyter-widgets/controls",
            "_model_module_version": "1.5.0",
            "_model_name": "HTMLModel",
            "_view_count": null,
            "_view_module": "@jupyter-widgets/controls",
            "_view_module_version": "1.5.0",
            "_view_name": "HTMLView",
            "description": "",
            "description_tooltip": null,
            "layout": "IPY_MODEL_4a9d3b1e145c427d998e1fcaceb328c9",
            "placeholder": "​",
            "style": "IPY_MODEL_e251f71b9d094793983a86cd2efc1f1b",
            "value": " 899k/899k [00:00&lt;00:00, 1.75MB/s]"
          }
        },
        "c1ecef871cc549c099d2844e6769bf90": {
          "model_module": "@jupyter-widgets/base",
          "model_name": "LayoutModel",
          "model_module_version": "1.2.0",
          "state": {
            "_model_module": "@jupyter-widgets/base",
            "_model_module_version": "1.2.0",
            "_model_name": "LayoutModel",
            "_view_count": null,
            "_view_module": "@jupyter-widgets/base",
            "_view_module_version": "1.2.0",
            "_view_name": "LayoutView",
            "align_content": null,
            "align_items": null,
            "align_self": null,
            "border": null,
            "bottom": null,
            "display": null,
            "flex": null,
            "flex_flow": null,
            "grid_area": null,
            "grid_auto_columns": null,
            "grid_auto_flow": null,
            "grid_auto_rows": null,
            "grid_column": null,
            "grid_gap": null,
            "grid_row": null,
            "grid_template_areas": null,
            "grid_template_columns": null,
            "grid_template_rows": null,
            "height": null,
            "justify_content": null,
            "justify_items": null,
            "left": null,
            "margin": null,
            "max_height": null,
            "max_width": null,
            "min_height": null,
            "min_width": null,
            "object_fit": null,
            "object_position": null,
            "order": null,
            "overflow": null,
            "overflow_x": null,
            "overflow_y": null,
            "padding": null,
            "right": null,
            "top": null,
            "visibility": null,
            "width": null
          }
        },
        "d7571bb179a347639c2337dab3c35000": {
          "model_module": "@jupyter-widgets/base",
          "model_name": "LayoutModel",
          "model_module_version": "1.2.0",
          "state": {
            "_model_module": "@jupyter-widgets/base",
            "_model_module_version": "1.2.0",
            "_model_name": "LayoutModel",
            "_view_count": null,
            "_view_module": "@jupyter-widgets/base",
            "_view_module_version": "1.2.0",
            "_view_name": "LayoutView",
            "align_content": null,
            "align_items": null,
            "align_self": null,
            "border": null,
            "bottom": null,
            "display": null,
            "flex": null,
            "flex_flow": null,
            "grid_area": null,
            "grid_auto_columns": null,
            "grid_auto_flow": null,
            "grid_auto_rows": null,
            "grid_column": null,
            "grid_gap": null,
            "grid_row": null,
            "grid_template_areas": null,
            "grid_template_columns": null,
            "grid_template_rows": null,
            "height": null,
            "justify_content": null,
            "justify_items": null,
            "left": null,
            "margin": null,
            "max_height": null,
            "max_width": null,
            "min_height": null,
            "min_width": null,
            "object_fit": null,
            "object_position": null,
            "order": null,
            "overflow": null,
            "overflow_x": null,
            "overflow_y": null,
            "padding": null,
            "right": null,
            "top": null,
            "visibility": null,
            "width": null
          }
        },
        "08d48a633d1d4e77978fbc55528ed396": {
          "model_module": "@jupyter-widgets/controls",
          "model_name": "DescriptionStyleModel",
          "model_module_version": "1.5.0",
          "state": {
            "_model_module": "@jupyter-widgets/controls",
            "_model_module_version": "1.5.0",
            "_model_name": "DescriptionStyleModel",
            "_view_count": null,
            "_view_module": "@jupyter-widgets/base",
            "_view_module_version": "1.2.0",
            "_view_name": "StyleView",
            "description_width": ""
          }
        },
        "6928e1c11c5f436aabd8cbcc7d30da78": {
          "model_module": "@jupyter-widgets/base",
          "model_name": "LayoutModel",
          "model_module_version": "1.2.0",
          "state": {
            "_model_module": "@jupyter-widgets/base",
            "_model_module_version": "1.2.0",
            "_model_name": "LayoutModel",
            "_view_count": null,
            "_view_module": "@jupyter-widgets/base",
            "_view_module_version": "1.2.0",
            "_view_name": "LayoutView",
            "align_content": null,
            "align_items": null,
            "align_self": null,
            "border": null,
            "bottom": null,
            "display": null,
            "flex": null,
            "flex_flow": null,
            "grid_area": null,
            "grid_auto_columns": null,
            "grid_auto_flow": null,
            "grid_auto_rows": null,
            "grid_column": null,
            "grid_gap": null,
            "grid_row": null,
            "grid_template_areas": null,
            "grid_template_columns": null,
            "grid_template_rows": null,
            "height": null,
            "justify_content": null,
            "justify_items": null,
            "left": null,
            "margin": null,
            "max_height": null,
            "max_width": null,
            "min_height": null,
            "min_width": null,
            "object_fit": null,
            "object_position": null,
            "order": null,
            "overflow": null,
            "overflow_x": null,
            "overflow_y": null,
            "padding": null,
            "right": null,
            "top": null,
            "visibility": null,
            "width": null
          }
        },
        "1020bc44df284cb4bb90edb831740758": {
          "model_module": "@jupyter-widgets/controls",
          "model_name": "ProgressStyleModel",
          "model_module_version": "1.5.0",
          "state": {
            "_model_module": "@jupyter-widgets/controls",
            "_model_module_version": "1.5.0",
            "_model_name": "ProgressStyleModel",
            "_view_count": null,
            "_view_module": "@jupyter-widgets/base",
            "_view_module_version": "1.2.0",
            "_view_name": "StyleView",
            "bar_color": null,
            "description_width": ""
          }
        },
        "4a9d3b1e145c427d998e1fcaceb328c9": {
          "model_module": "@jupyter-widgets/base",
          "model_name": "LayoutModel",
          "model_module_version": "1.2.0",
          "state": {
            "_model_module": "@jupyter-widgets/base",
            "_model_module_version": "1.2.0",
            "_model_name": "LayoutModel",
            "_view_count": null,
            "_view_module": "@jupyter-widgets/base",
            "_view_module_version": "1.2.0",
            "_view_name": "LayoutView",
            "align_content": null,
            "align_items": null,
            "align_self": null,
            "border": null,
            "bottom": null,
            "display": null,
            "flex": null,
            "flex_flow": null,
            "grid_area": null,
            "grid_auto_columns": null,
            "grid_auto_flow": null,
            "grid_auto_rows": null,
            "grid_column": null,
            "grid_gap": null,
            "grid_row": null,
            "grid_template_areas": null,
            "grid_template_columns": null,
            "grid_template_rows": null,
            "height": null,
            "justify_content": null,
            "justify_items": null,
            "left": null,
            "margin": null,
            "max_height": null,
            "max_width": null,
            "min_height": null,
            "min_width": null,
            "object_fit": null,
            "object_position": null,
            "order": null,
            "overflow": null,
            "overflow_x": null,
            "overflow_y": null,
            "padding": null,
            "right": null,
            "top": null,
            "visibility": null,
            "width": null
          }
        },
        "e251f71b9d094793983a86cd2efc1f1b": {
          "model_module": "@jupyter-widgets/controls",
          "model_name": "DescriptionStyleModel",
          "model_module_version": "1.5.0",
          "state": {
            "_model_module": "@jupyter-widgets/controls",
            "_model_module_version": "1.5.0",
            "_model_name": "DescriptionStyleModel",
            "_view_count": null,
            "_view_module": "@jupyter-widgets/base",
            "_view_module_version": "1.2.0",
            "_view_name": "StyleView",
            "description_width": ""
          }
        },
        "1004c2e466d644c3a7357ad44c306b31": {
          "model_module": "@jupyter-widgets/controls",
          "model_name": "HBoxModel",
          "model_module_version": "1.5.0",
          "state": {
            "_dom_classes": [],
            "_model_module": "@jupyter-widgets/controls",
            "_model_module_version": "1.5.0",
            "_model_name": "HBoxModel",
            "_view_count": null,
            "_view_module": "@jupyter-widgets/controls",
            "_view_module_version": "1.5.0",
            "_view_name": "HBoxView",
            "box_style": "",
            "children": [
              "IPY_MODEL_708c62dedf7b4d4e9cf1c58ec1d24539",
              "IPY_MODEL_3cf4e9807ef94194aa17437cfb026929",
              "IPY_MODEL_b6ff046318ab4606a723243649d32480"
            ],
            "layout": "IPY_MODEL_02fb6dbd0e6a4b7aab592566874abf70"
          }
        },
        "708c62dedf7b4d4e9cf1c58ec1d24539": {
          "model_module": "@jupyter-widgets/controls",
          "model_name": "HTMLModel",
          "model_module_version": "1.5.0",
          "state": {
            "_dom_classes": [],
            "_model_module": "@jupyter-widgets/controls",
            "_model_module_version": "1.5.0",
            "_model_name": "HTMLModel",
            "_view_count": null,
            "_view_module": "@jupyter-widgets/controls",
            "_view_module_version": "1.5.0",
            "_view_name": "HTMLView",
            "description": "",
            "description_tooltip": null,
            "layout": "IPY_MODEL_f305557846d741db8e1670345b1fa287",
            "placeholder": "​",
            "style": "IPY_MODEL_fb64fedaaff74e9ea213cc6b430387da",
            "value": "Downloading (…)olve/main/merges.txt: 100%"
          }
        },
        "3cf4e9807ef94194aa17437cfb026929": {
          "model_module": "@jupyter-widgets/controls",
          "model_name": "FloatProgressModel",
          "model_module_version": "1.5.0",
          "state": {
            "_dom_classes": [],
            "_model_module": "@jupyter-widgets/controls",
            "_model_module_version": "1.5.0",
            "_model_name": "FloatProgressModel",
            "_view_count": null,
            "_view_module": "@jupyter-widgets/controls",
            "_view_module_version": "1.5.0",
            "_view_name": "ProgressView",
            "bar_style": "success",
            "description": "",
            "description_tooltip": null,
            "layout": "IPY_MODEL_4ba2e5d6b2de4e66b724561da44c27ef",
            "max": 456318,
            "min": 0,
            "orientation": "horizontal",
            "style": "IPY_MODEL_a1fb682243054bd0a30c10923d1a769e",
            "value": 456318
          }
        },
        "b6ff046318ab4606a723243649d32480": {
          "model_module": "@jupyter-widgets/controls",
          "model_name": "HTMLModel",
          "model_module_version": "1.5.0",
          "state": {
            "_dom_classes": [],
            "_model_module": "@jupyter-widgets/controls",
            "_model_module_version": "1.5.0",
            "_model_name": "HTMLModel",
            "_view_count": null,
            "_view_module": "@jupyter-widgets/controls",
            "_view_module_version": "1.5.0",
            "_view_name": "HTMLView",
            "description": "",
            "description_tooltip": null,
            "layout": "IPY_MODEL_0849e3ef21bf4d588029705e3c006dc5",
            "placeholder": "​",
            "style": "IPY_MODEL_5482140ad8214fbfa3085b71c51f767a",
            "value": " 456k/456k [00:00&lt;00:00, 1.07MB/s]"
          }
        },
        "02fb6dbd0e6a4b7aab592566874abf70": {
          "model_module": "@jupyter-widgets/base",
          "model_name": "LayoutModel",
          "model_module_version": "1.2.0",
          "state": {
            "_model_module": "@jupyter-widgets/base",
            "_model_module_version": "1.2.0",
            "_model_name": "LayoutModel",
            "_view_count": null,
            "_view_module": "@jupyter-widgets/base",
            "_view_module_version": "1.2.0",
            "_view_name": "LayoutView",
            "align_content": null,
            "align_items": null,
            "align_self": null,
            "border": null,
            "bottom": null,
            "display": null,
            "flex": null,
            "flex_flow": null,
            "grid_area": null,
            "grid_auto_columns": null,
            "grid_auto_flow": null,
            "grid_auto_rows": null,
            "grid_column": null,
            "grid_gap": null,
            "grid_row": null,
            "grid_template_areas": null,
            "grid_template_columns": null,
            "grid_template_rows": null,
            "height": null,
            "justify_content": null,
            "justify_items": null,
            "left": null,
            "margin": null,
            "max_height": null,
            "max_width": null,
            "min_height": null,
            "min_width": null,
            "object_fit": null,
            "object_position": null,
            "order": null,
            "overflow": null,
            "overflow_x": null,
            "overflow_y": null,
            "padding": null,
            "right": null,
            "top": null,
            "visibility": null,
            "width": null
          }
        },
        "f305557846d741db8e1670345b1fa287": {
          "model_module": "@jupyter-widgets/base",
          "model_name": "LayoutModel",
          "model_module_version": "1.2.0",
          "state": {
            "_model_module": "@jupyter-widgets/base",
            "_model_module_version": "1.2.0",
            "_model_name": "LayoutModel",
            "_view_count": null,
            "_view_module": "@jupyter-widgets/base",
            "_view_module_version": "1.2.0",
            "_view_name": "LayoutView",
            "align_content": null,
            "align_items": null,
            "align_self": null,
            "border": null,
            "bottom": null,
            "display": null,
            "flex": null,
            "flex_flow": null,
            "grid_area": null,
            "grid_auto_columns": null,
            "grid_auto_flow": null,
            "grid_auto_rows": null,
            "grid_column": null,
            "grid_gap": null,
            "grid_row": null,
            "grid_template_areas": null,
            "grid_template_columns": null,
            "grid_template_rows": null,
            "height": null,
            "justify_content": null,
            "justify_items": null,
            "left": null,
            "margin": null,
            "max_height": null,
            "max_width": null,
            "min_height": null,
            "min_width": null,
            "object_fit": null,
            "object_position": null,
            "order": null,
            "overflow": null,
            "overflow_x": null,
            "overflow_y": null,
            "padding": null,
            "right": null,
            "top": null,
            "visibility": null,
            "width": null
          }
        },
        "fb64fedaaff74e9ea213cc6b430387da": {
          "model_module": "@jupyter-widgets/controls",
          "model_name": "DescriptionStyleModel",
          "model_module_version": "1.5.0",
          "state": {
            "_model_module": "@jupyter-widgets/controls",
            "_model_module_version": "1.5.0",
            "_model_name": "DescriptionStyleModel",
            "_view_count": null,
            "_view_module": "@jupyter-widgets/base",
            "_view_module_version": "1.2.0",
            "_view_name": "StyleView",
            "description_width": ""
          }
        },
        "4ba2e5d6b2de4e66b724561da44c27ef": {
          "model_module": "@jupyter-widgets/base",
          "model_name": "LayoutModel",
          "model_module_version": "1.2.0",
          "state": {
            "_model_module": "@jupyter-widgets/base",
            "_model_module_version": "1.2.0",
            "_model_name": "LayoutModel",
            "_view_count": null,
            "_view_module": "@jupyter-widgets/base",
            "_view_module_version": "1.2.0",
            "_view_name": "LayoutView",
            "align_content": null,
            "align_items": null,
            "align_self": null,
            "border": null,
            "bottom": null,
            "display": null,
            "flex": null,
            "flex_flow": null,
            "grid_area": null,
            "grid_auto_columns": null,
            "grid_auto_flow": null,
            "grid_auto_rows": null,
            "grid_column": null,
            "grid_gap": null,
            "grid_row": null,
            "grid_template_areas": null,
            "grid_template_columns": null,
            "grid_template_rows": null,
            "height": null,
            "justify_content": null,
            "justify_items": null,
            "left": null,
            "margin": null,
            "max_height": null,
            "max_width": null,
            "min_height": null,
            "min_width": null,
            "object_fit": null,
            "object_position": null,
            "order": null,
            "overflow": null,
            "overflow_x": null,
            "overflow_y": null,
            "padding": null,
            "right": null,
            "top": null,
            "visibility": null,
            "width": null
          }
        },
        "a1fb682243054bd0a30c10923d1a769e": {
          "model_module": "@jupyter-widgets/controls",
          "model_name": "ProgressStyleModel",
          "model_module_version": "1.5.0",
          "state": {
            "_model_module": "@jupyter-widgets/controls",
            "_model_module_version": "1.5.0",
            "_model_name": "ProgressStyleModel",
            "_view_count": null,
            "_view_module": "@jupyter-widgets/base",
            "_view_module_version": "1.2.0",
            "_view_name": "StyleView",
            "bar_color": null,
            "description_width": ""
          }
        },
        "0849e3ef21bf4d588029705e3c006dc5": {
          "model_module": "@jupyter-widgets/base",
          "model_name": "LayoutModel",
          "model_module_version": "1.2.0",
          "state": {
            "_model_module": "@jupyter-widgets/base",
            "_model_module_version": "1.2.0",
            "_model_name": "LayoutModel",
            "_view_count": null,
            "_view_module": "@jupyter-widgets/base",
            "_view_module_version": "1.2.0",
            "_view_name": "LayoutView",
            "align_content": null,
            "align_items": null,
            "align_self": null,
            "border": null,
            "bottom": null,
            "display": null,
            "flex": null,
            "flex_flow": null,
            "grid_area": null,
            "grid_auto_columns": null,
            "grid_auto_flow": null,
            "grid_auto_rows": null,
            "grid_column": null,
            "grid_gap": null,
            "grid_row": null,
            "grid_template_areas": null,
            "grid_template_columns": null,
            "grid_template_rows": null,
            "height": null,
            "justify_content": null,
            "justify_items": null,
            "left": null,
            "margin": null,
            "max_height": null,
            "max_width": null,
            "min_height": null,
            "min_width": null,
            "object_fit": null,
            "object_position": null,
            "order": null,
            "overflow": null,
            "overflow_x": null,
            "overflow_y": null,
            "padding": null,
            "right": null,
            "top": null,
            "visibility": null,
            "width": null
          }
        },
        "5482140ad8214fbfa3085b71c51f767a": {
          "model_module": "@jupyter-widgets/controls",
          "model_name": "DescriptionStyleModel",
          "model_module_version": "1.5.0",
          "state": {
            "_model_module": "@jupyter-widgets/controls",
            "_model_module_version": "1.5.0",
            "_model_name": "DescriptionStyleModel",
            "_view_count": null,
            "_view_module": "@jupyter-widgets/base",
            "_view_module_version": "1.2.0",
            "_view_name": "StyleView",
            "description_width": ""
          }
        },
        "545daef4d97b4b11bff08f8b12ba54f7": {
          "model_module": "@jupyter-widgets/controls",
          "model_name": "HBoxModel",
          "model_module_version": "1.5.0",
          "state": {
            "_dom_classes": [],
            "_model_module": "@jupyter-widgets/controls",
            "_model_module_version": "1.5.0",
            "_model_name": "HBoxModel",
            "_view_count": null,
            "_view_module": "@jupyter-widgets/controls",
            "_view_module_version": "1.5.0",
            "_view_name": "HBoxView",
            "box_style": "",
            "children": [
              "IPY_MODEL_c7f6031bea8145abb9e6f1724b269cb8",
              "IPY_MODEL_928d084ecb204032b982a0d9c2bc2a18",
              "IPY_MODEL_d687eee172934e74b1c78cef4c7a0a5d"
            ],
            "layout": "IPY_MODEL_e92dc73e7fe64f6b9c4d20f8b1d7befd"
          }
        },
        "c7f6031bea8145abb9e6f1724b269cb8": {
          "model_module": "@jupyter-widgets/controls",
          "model_name": "HTMLModel",
          "model_module_version": "1.5.0",
          "state": {
            "_dom_classes": [],
            "_model_module": "@jupyter-widgets/controls",
            "_model_module_version": "1.5.0",
            "_model_name": "HTMLModel",
            "_view_count": null,
            "_view_module": "@jupyter-widgets/controls",
            "_view_module_version": "1.5.0",
            "_view_name": "HTMLView",
            "description": "",
            "description_tooltip": null,
            "layout": "IPY_MODEL_7f9aa4b39c9f4fc8a0065752f33f71a8",
            "placeholder": "​",
            "style": "IPY_MODEL_2623decd58cf4b37a24baa1a56485140",
            "value": "Downloading (…)&quot;pytorch_model.bin&quot;;: 100%"
          }
        },
        "928d084ecb204032b982a0d9c2bc2a18": {
          "model_module": "@jupyter-widgets/controls",
          "model_name": "FloatProgressModel",
          "model_module_version": "1.5.0",
          "state": {
            "_dom_classes": [],
            "_model_module": "@jupyter-widgets/controls",
            "_model_module_version": "1.5.0",
            "_model_name": "FloatProgressModel",
            "_view_count": null,
            "_view_module": "@jupyter-widgets/controls",
            "_view_module_version": "1.5.0",
            "_view_name": "ProgressView",
            "bar_style": "success",
            "description": "",
            "description_tooltip": null,
            "layout": "IPY_MODEL_ac31cc5e0c1a41559a715b9520950f86",
            "max": 1425941629,
            "min": 0,
            "orientation": "horizontal",
            "style": "IPY_MODEL_c3ef088395654c918b10c9975a022df1",
            "value": 1425941629
          }
        },
        "d687eee172934e74b1c78cef4c7a0a5d": {
          "model_module": "@jupyter-widgets/controls",
          "model_name": "HTMLModel",
          "model_module_version": "1.5.0",
          "state": {
            "_dom_classes": [],
            "_model_module": "@jupyter-widgets/controls",
            "_model_module_version": "1.5.0",
            "_model_name": "HTMLModel",
            "_view_count": null,
            "_view_module": "@jupyter-widgets/controls",
            "_view_module_version": "1.5.0",
            "_view_name": "HTMLView",
            "description": "",
            "description_tooltip": null,
            "layout": "IPY_MODEL_89ef6cf98a1d4f93bf2480d1cb64516f",
            "placeholder": "​",
            "style": "IPY_MODEL_39612a66f4664e8b937707c171e5e84f",
            "value": " 1.43G/1.43G [00:11&lt;00:00, 116MB/s]"
          }
        },
        "e92dc73e7fe64f6b9c4d20f8b1d7befd": {
          "model_module": "@jupyter-widgets/base",
          "model_name": "LayoutModel",
          "model_module_version": "1.2.0",
          "state": {
            "_model_module": "@jupyter-widgets/base",
            "_model_module_version": "1.2.0",
            "_model_name": "LayoutModel",
            "_view_count": null,
            "_view_module": "@jupyter-widgets/base",
            "_view_module_version": "1.2.0",
            "_view_name": "LayoutView",
            "align_content": null,
            "align_items": null,
            "align_self": null,
            "border": null,
            "bottom": null,
            "display": null,
            "flex": null,
            "flex_flow": null,
            "grid_area": null,
            "grid_auto_columns": null,
            "grid_auto_flow": null,
            "grid_auto_rows": null,
            "grid_column": null,
            "grid_gap": null,
            "grid_row": null,
            "grid_template_areas": null,
            "grid_template_columns": null,
            "grid_template_rows": null,
            "height": null,
            "justify_content": null,
            "justify_items": null,
            "left": null,
            "margin": null,
            "max_height": null,
            "max_width": null,
            "min_height": null,
            "min_width": null,
            "object_fit": null,
            "object_position": null,
            "order": null,
            "overflow": null,
            "overflow_x": null,
            "overflow_y": null,
            "padding": null,
            "right": null,
            "top": null,
            "visibility": null,
            "width": null
          }
        },
        "7f9aa4b39c9f4fc8a0065752f33f71a8": {
          "model_module": "@jupyter-widgets/base",
          "model_name": "LayoutModel",
          "model_module_version": "1.2.0",
          "state": {
            "_model_module": "@jupyter-widgets/base",
            "_model_module_version": "1.2.0",
            "_model_name": "LayoutModel",
            "_view_count": null,
            "_view_module": "@jupyter-widgets/base",
            "_view_module_version": "1.2.0",
            "_view_name": "LayoutView",
            "align_content": null,
            "align_items": null,
            "align_self": null,
            "border": null,
            "bottom": null,
            "display": null,
            "flex": null,
            "flex_flow": null,
            "grid_area": null,
            "grid_auto_columns": null,
            "grid_auto_flow": null,
            "grid_auto_rows": null,
            "grid_column": null,
            "grid_gap": null,
            "grid_row": null,
            "grid_template_areas": null,
            "grid_template_columns": null,
            "grid_template_rows": null,
            "height": null,
            "justify_content": null,
            "justify_items": null,
            "left": null,
            "margin": null,
            "max_height": null,
            "max_width": null,
            "min_height": null,
            "min_width": null,
            "object_fit": null,
            "object_position": null,
            "order": null,
            "overflow": null,
            "overflow_x": null,
            "overflow_y": null,
            "padding": null,
            "right": null,
            "top": null,
            "visibility": null,
            "width": null
          }
        },
        "2623decd58cf4b37a24baa1a56485140": {
          "model_module": "@jupyter-widgets/controls",
          "model_name": "DescriptionStyleModel",
          "model_module_version": "1.5.0",
          "state": {
            "_model_module": "@jupyter-widgets/controls",
            "_model_module_version": "1.5.0",
            "_model_name": "DescriptionStyleModel",
            "_view_count": null,
            "_view_module": "@jupyter-widgets/base",
            "_view_module_version": "1.2.0",
            "_view_name": "StyleView",
            "description_width": ""
          }
        },
        "ac31cc5e0c1a41559a715b9520950f86": {
          "model_module": "@jupyter-widgets/base",
          "model_name": "LayoutModel",
          "model_module_version": "1.2.0",
          "state": {
            "_model_module": "@jupyter-widgets/base",
            "_model_module_version": "1.2.0",
            "_model_name": "LayoutModel",
            "_view_count": null,
            "_view_module": "@jupyter-widgets/base",
            "_view_module_version": "1.2.0",
            "_view_name": "LayoutView",
            "align_content": null,
            "align_items": null,
            "align_self": null,
            "border": null,
            "bottom": null,
            "display": null,
            "flex": null,
            "flex_flow": null,
            "grid_area": null,
            "grid_auto_columns": null,
            "grid_auto_flow": null,
            "grid_auto_rows": null,
            "grid_column": null,
            "grid_gap": null,
            "grid_row": null,
            "grid_template_areas": null,
            "grid_template_columns": null,
            "grid_template_rows": null,
            "height": null,
            "justify_content": null,
            "justify_items": null,
            "left": null,
            "margin": null,
            "max_height": null,
            "max_width": null,
            "min_height": null,
            "min_width": null,
            "object_fit": null,
            "object_position": null,
            "order": null,
            "overflow": null,
            "overflow_x": null,
            "overflow_y": null,
            "padding": null,
            "right": null,
            "top": null,
            "visibility": null,
            "width": null
          }
        },
        "c3ef088395654c918b10c9975a022df1": {
          "model_module": "@jupyter-widgets/controls",
          "model_name": "ProgressStyleModel",
          "model_module_version": "1.5.0",
          "state": {
            "_model_module": "@jupyter-widgets/controls",
            "_model_module_version": "1.5.0",
            "_model_name": "ProgressStyleModel",
            "_view_count": null,
            "_view_module": "@jupyter-widgets/base",
            "_view_module_version": "1.2.0",
            "_view_name": "StyleView",
            "bar_color": null,
            "description_width": ""
          }
        },
        "89ef6cf98a1d4f93bf2480d1cb64516f": {
          "model_module": "@jupyter-widgets/base",
          "model_name": "LayoutModel",
          "model_module_version": "1.2.0",
          "state": {
            "_model_module": "@jupyter-widgets/base",
            "_model_module_version": "1.2.0",
            "_model_name": "LayoutModel",
            "_view_count": null,
            "_view_module": "@jupyter-widgets/base",
            "_view_module_version": "1.2.0",
            "_view_name": "LayoutView",
            "align_content": null,
            "align_items": null,
            "align_self": null,
            "border": null,
            "bottom": null,
            "display": null,
            "flex": null,
            "flex_flow": null,
            "grid_area": null,
            "grid_auto_columns": null,
            "grid_auto_flow": null,
            "grid_auto_rows": null,
            "grid_column": null,
            "grid_gap": null,
            "grid_row": null,
            "grid_template_areas": null,
            "grid_template_columns": null,
            "grid_template_rows": null,
            "height": null,
            "justify_content": null,
            "justify_items": null,
            "left": null,
            "margin": null,
            "max_height": null,
            "max_width": null,
            "min_height": null,
            "min_width": null,
            "object_fit": null,
            "object_position": null,
            "order": null,
            "overflow": null,
            "overflow_x": null,
            "overflow_y": null,
            "padding": null,
            "right": null,
            "top": null,
            "visibility": null,
            "width": null
          }
        },
        "39612a66f4664e8b937707c171e5e84f": {
          "model_module": "@jupyter-widgets/controls",
          "model_name": "DescriptionStyleModel",
          "model_module_version": "1.5.0",
          "state": {
            "_model_module": "@jupyter-widgets/controls",
            "_model_module_version": "1.5.0",
            "_model_name": "DescriptionStyleModel",
            "_view_count": null,
            "_view_module": "@jupyter-widgets/base",
            "_view_module_version": "1.2.0",
            "_view_name": "StyleView",
            "description_width": ""
          }
        },
        "bb1ba0f482a041e4985a135120e9ac8b": {
          "model_module": "@jupyter-widgets/controls",
          "model_name": "HBoxModel",
          "model_module_version": "1.5.0",
          "state": {
            "_dom_classes": [],
            "_model_module": "@jupyter-widgets/controls",
            "_model_module_version": "1.5.0",
            "_model_name": "HBoxModel",
            "_view_count": null,
            "_view_module": "@jupyter-widgets/controls",
            "_view_module_version": "1.5.0",
            "_view_name": "HBoxView",
            "box_style": "",
            "children": [
              "IPY_MODEL_e7691c459c314cafbb735afc820f0e08",
              "IPY_MODEL_d64d81c7b00644f7ab0fc8d096c9dad5",
              "IPY_MODEL_22d646c86ec94d9cb6de33bca2fdaedf"
            ],
            "layout": "IPY_MODEL_b07f16fd50834612b7edf368362bda77"
          }
        },
        "e7691c459c314cafbb735afc820f0e08": {
          "model_module": "@jupyter-widgets/controls",
          "model_name": "HTMLModel",
          "model_module_version": "1.5.0",
          "state": {
            "_dom_classes": [],
            "_model_module": "@jupyter-widgets/controls",
            "_model_module_version": "1.5.0",
            "_model_name": "HTMLModel",
            "_view_count": null,
            "_view_module": "@jupyter-widgets/controls",
            "_view_module_version": "1.5.0",
            "_view_name": "HTMLView",
            "description": "",
            "description_tooltip": null,
            "layout": "IPY_MODEL_ee7c381dc6434de59b7e81a8761b1d07",
            "placeholder": "​",
            "style": "IPY_MODEL_bdae65c19b89471a9862143eaa604fbe",
            "value": "100%"
          }
        },
        "d64d81c7b00644f7ab0fc8d096c9dad5": {
          "model_module": "@jupyter-widgets/controls",
          "model_name": "FloatProgressModel",
          "model_module_version": "1.5.0",
          "state": {
            "_dom_classes": [],
            "_model_module": "@jupyter-widgets/controls",
            "_model_module_version": "1.5.0",
            "_model_name": "FloatProgressModel",
            "_view_count": null,
            "_view_module": "@jupyter-widgets/controls",
            "_view_module_version": "1.5.0",
            "_view_name": "ProgressView",
            "bar_style": "success",
            "description": "",
            "description_tooltip": null,
            "layout": "IPY_MODEL_c1a57460c0874ab3906841f1b2a23c5e",
            "max": 1,
            "min": 0,
            "orientation": "horizontal",
            "style": "IPY_MODEL_5489daf1e2f840db856b488ad5f9a364",
            "value": 1
          }
        },
        "22d646c86ec94d9cb6de33bca2fdaedf": {
          "model_module": "@jupyter-widgets/controls",
          "model_name": "HTMLModel",
          "model_module_version": "1.5.0",
          "state": {
            "_dom_classes": [],
            "_model_module": "@jupyter-widgets/controls",
            "_model_module_version": "1.5.0",
            "_model_name": "HTMLModel",
            "_view_count": null,
            "_view_module": "@jupyter-widgets/controls",
            "_view_module_version": "1.5.0",
            "_view_name": "HTMLView",
            "description": "",
            "description_tooltip": null,
            "layout": "IPY_MODEL_58ad73e4673e443fb1191c31a7887691",
            "placeholder": "​",
            "style": "IPY_MODEL_b9b81bb79a8747c58dcb212676072d07",
            "value": " 1/1 [00:02&lt;00:00,  2.40s/it]"
          }
        },
        "b07f16fd50834612b7edf368362bda77": {
          "model_module": "@jupyter-widgets/base",
          "model_name": "LayoutModel",
          "model_module_version": "1.2.0",
          "state": {
            "_model_module": "@jupyter-widgets/base",
            "_model_module_version": "1.2.0",
            "_model_name": "LayoutModel",
            "_view_count": null,
            "_view_module": "@jupyter-widgets/base",
            "_view_module_version": "1.2.0",
            "_view_name": "LayoutView",
            "align_content": null,
            "align_items": null,
            "align_self": null,
            "border": null,
            "bottom": null,
            "display": null,
            "flex": null,
            "flex_flow": null,
            "grid_area": null,
            "grid_auto_columns": null,
            "grid_auto_flow": null,
            "grid_auto_rows": null,
            "grid_column": null,
            "grid_gap": null,
            "grid_row": null,
            "grid_template_areas": null,
            "grid_template_columns": null,
            "grid_template_rows": null,
            "height": null,
            "justify_content": null,
            "justify_items": null,
            "left": null,
            "margin": null,
            "max_height": null,
            "max_width": null,
            "min_height": null,
            "min_width": null,
            "object_fit": null,
            "object_position": null,
            "order": null,
            "overflow": null,
            "overflow_x": null,
            "overflow_y": null,
            "padding": null,
            "right": null,
            "top": null,
            "visibility": null,
            "width": null
          }
        },
        "ee7c381dc6434de59b7e81a8761b1d07": {
          "model_module": "@jupyter-widgets/base",
          "model_name": "LayoutModel",
          "model_module_version": "1.2.0",
          "state": {
            "_model_module": "@jupyter-widgets/base",
            "_model_module_version": "1.2.0",
            "_model_name": "LayoutModel",
            "_view_count": null,
            "_view_module": "@jupyter-widgets/base",
            "_view_module_version": "1.2.0",
            "_view_name": "LayoutView",
            "align_content": null,
            "align_items": null,
            "align_self": null,
            "border": null,
            "bottom": null,
            "display": null,
            "flex": null,
            "flex_flow": null,
            "grid_area": null,
            "grid_auto_columns": null,
            "grid_auto_flow": null,
            "grid_auto_rows": null,
            "grid_column": null,
            "grid_gap": null,
            "grid_row": null,
            "grid_template_areas": null,
            "grid_template_columns": null,
            "grid_template_rows": null,
            "height": null,
            "justify_content": null,
            "justify_items": null,
            "left": null,
            "margin": null,
            "max_height": null,
            "max_width": null,
            "min_height": null,
            "min_width": null,
            "object_fit": null,
            "object_position": null,
            "order": null,
            "overflow": null,
            "overflow_x": null,
            "overflow_y": null,
            "padding": null,
            "right": null,
            "top": null,
            "visibility": null,
            "width": null
          }
        },
        "bdae65c19b89471a9862143eaa604fbe": {
          "model_module": "@jupyter-widgets/controls",
          "model_name": "DescriptionStyleModel",
          "model_module_version": "1.5.0",
          "state": {
            "_model_module": "@jupyter-widgets/controls",
            "_model_module_version": "1.5.0",
            "_model_name": "DescriptionStyleModel",
            "_view_count": null,
            "_view_module": "@jupyter-widgets/base",
            "_view_module_version": "1.2.0",
            "_view_name": "StyleView",
            "description_width": ""
          }
        },
        "c1a57460c0874ab3906841f1b2a23c5e": {
          "model_module": "@jupyter-widgets/base",
          "model_name": "LayoutModel",
          "model_module_version": "1.2.0",
          "state": {
            "_model_module": "@jupyter-widgets/base",
            "_model_module_version": "1.2.0",
            "_model_name": "LayoutModel",
            "_view_count": null,
            "_view_module": "@jupyter-widgets/base",
            "_view_module_version": "1.2.0",
            "_view_name": "LayoutView",
            "align_content": null,
            "align_items": null,
            "align_self": null,
            "border": null,
            "bottom": null,
            "display": null,
            "flex": null,
            "flex_flow": null,
            "grid_area": null,
            "grid_auto_columns": null,
            "grid_auto_flow": null,
            "grid_auto_rows": null,
            "grid_column": null,
            "grid_gap": null,
            "grid_row": null,
            "grid_template_areas": null,
            "grid_template_columns": null,
            "grid_template_rows": null,
            "height": null,
            "justify_content": null,
            "justify_items": null,
            "left": null,
            "margin": null,
            "max_height": null,
            "max_width": null,
            "min_height": null,
            "min_width": null,
            "object_fit": null,
            "object_position": null,
            "order": null,
            "overflow": null,
            "overflow_x": null,
            "overflow_y": null,
            "padding": null,
            "right": null,
            "top": null,
            "visibility": null,
            "width": null
          }
        },
        "5489daf1e2f840db856b488ad5f9a364": {
          "model_module": "@jupyter-widgets/controls",
          "model_name": "ProgressStyleModel",
          "model_module_version": "1.5.0",
          "state": {
            "_model_module": "@jupyter-widgets/controls",
            "_model_module_version": "1.5.0",
            "_model_name": "ProgressStyleModel",
            "_view_count": null,
            "_view_module": "@jupyter-widgets/base",
            "_view_module_version": "1.2.0",
            "_view_name": "StyleView",
            "bar_color": null,
            "description_width": ""
          }
        },
        "58ad73e4673e443fb1191c31a7887691": {
          "model_module": "@jupyter-widgets/base",
          "model_name": "LayoutModel",
          "model_module_version": "1.2.0",
          "state": {
            "_model_module": "@jupyter-widgets/base",
            "_model_module_version": "1.2.0",
            "_model_name": "LayoutModel",
            "_view_count": null,
            "_view_module": "@jupyter-widgets/base",
            "_view_module_version": "1.2.0",
            "_view_name": "LayoutView",
            "align_content": null,
            "align_items": null,
            "align_self": null,
            "border": null,
            "bottom": null,
            "display": null,
            "flex": null,
            "flex_flow": null,
            "grid_area": null,
            "grid_auto_columns": null,
            "grid_auto_flow": null,
            "grid_auto_rows": null,
            "grid_column": null,
            "grid_gap": null,
            "grid_row": null,
            "grid_template_areas": null,
            "grid_template_columns": null,
            "grid_template_rows": null,
            "height": null,
            "justify_content": null,
            "justify_items": null,
            "left": null,
            "margin": null,
            "max_height": null,
            "max_width": null,
            "min_height": null,
            "min_width": null,
            "object_fit": null,
            "object_position": null,
            "order": null,
            "overflow": null,
            "overflow_x": null,
            "overflow_y": null,
            "padding": null,
            "right": null,
            "top": null,
            "visibility": null,
            "width": null
          }
        },
        "b9b81bb79a8747c58dcb212676072d07": {
          "model_module": "@jupyter-widgets/controls",
          "model_name": "DescriptionStyleModel",
          "model_module_version": "1.5.0",
          "state": {
            "_model_module": "@jupyter-widgets/controls",
            "_model_module_version": "1.5.0",
            "_model_name": "DescriptionStyleModel",
            "_view_count": null,
            "_view_module": "@jupyter-widgets/base",
            "_view_module_version": "1.2.0",
            "_view_name": "StyleView",
            "description_width": ""
          }
        },
        "f3f3b5acf6584d23af0b7b81ca176970": {
          "model_module": "@jupyter-widgets/controls",
          "model_name": "HBoxModel",
          "model_module_version": "1.5.0",
          "state": {
            "_dom_classes": [],
            "_model_module": "@jupyter-widgets/controls",
            "_model_module_version": "1.5.0",
            "_model_name": "HBoxModel",
            "_view_count": null,
            "_view_module": "@jupyter-widgets/controls",
            "_view_module_version": "1.5.0",
            "_view_name": "HBoxView",
            "box_style": "",
            "children": [
              "IPY_MODEL_16141ce6d04d4ea5b444aa98c1b85173",
              "IPY_MODEL_7dd527eac365465e859f1fa42d57cc77",
              "IPY_MODEL_82caed9ba3814038a0865ef48a2b34e9"
            ],
            "layout": "IPY_MODEL_38c6ffd5239e41c58b024f8e42e8ca4b"
          }
        },
        "16141ce6d04d4ea5b444aa98c1b85173": {
          "model_module": "@jupyter-widgets/controls",
          "model_name": "HTMLModel",
          "model_module_version": "1.5.0",
          "state": {
            "_dom_classes": [],
            "_model_module": "@jupyter-widgets/controls",
            "_model_module_version": "1.5.0",
            "_model_name": "HTMLModel",
            "_view_count": null,
            "_view_module": "@jupyter-widgets/controls",
            "_view_module_version": "1.5.0",
            "_view_name": "HTMLView",
            "description": "",
            "description_tooltip": null,
            "layout": "IPY_MODEL_d4f496b8203948fd902b5da10fbd9cb9",
            "placeholder": "​",
            "style": "IPY_MODEL_34d77b0aa7ba4033818224c9e9e96e42",
            "value": "100%"
          }
        },
        "7dd527eac365465e859f1fa42d57cc77": {
          "model_module": "@jupyter-widgets/controls",
          "model_name": "FloatProgressModel",
          "model_module_version": "1.5.0",
          "state": {
            "_dom_classes": [],
            "_model_module": "@jupyter-widgets/controls",
            "_model_module_version": "1.5.0",
            "_model_name": "FloatProgressModel",
            "_view_count": null,
            "_view_module": "@jupyter-widgets/controls",
            "_view_module_version": "1.5.0",
            "_view_name": "ProgressView",
            "bar_style": "success",
            "description": "",
            "description_tooltip": null,
            "layout": "IPY_MODEL_dd15385ed7004ae4ae75e4b136df03bd",
            "max": 1,
            "min": 0,
            "orientation": "horizontal",
            "style": "IPY_MODEL_d54bfd0ad5ca46cda688a2a8ebe238a5",
            "value": 1
          }
        },
        "82caed9ba3814038a0865ef48a2b34e9": {
          "model_module": "@jupyter-widgets/controls",
          "model_name": "HTMLModel",
          "model_module_version": "1.5.0",
          "state": {
            "_dom_classes": [],
            "_model_module": "@jupyter-widgets/controls",
            "_model_module_version": "1.5.0",
            "_model_name": "HTMLModel",
            "_view_count": null,
            "_view_module": "@jupyter-widgets/controls",
            "_view_module_version": "1.5.0",
            "_view_name": "HTMLView",
            "description": "",
            "description_tooltip": null,
            "layout": "IPY_MODEL_9ef38f811d994fe294e73aaa0d5d4a57",
            "placeholder": "​",
            "style": "IPY_MODEL_74ff6fac82c441e8af3ee67a075f8a4a",
            "value": " 1/1 [00:00&lt;00:00, 25.91it/s]"
          }
        },
        "38c6ffd5239e41c58b024f8e42e8ca4b": {
          "model_module": "@jupyter-widgets/base",
          "model_name": "LayoutModel",
          "model_module_version": "1.2.0",
          "state": {
            "_model_module": "@jupyter-widgets/base",
            "_model_module_version": "1.2.0",
            "_model_name": "LayoutModel",
            "_view_count": null,
            "_view_module": "@jupyter-widgets/base",
            "_view_module_version": "1.2.0",
            "_view_name": "LayoutView",
            "align_content": null,
            "align_items": null,
            "align_self": null,
            "border": null,
            "bottom": null,
            "display": null,
            "flex": null,
            "flex_flow": null,
            "grid_area": null,
            "grid_auto_columns": null,
            "grid_auto_flow": null,
            "grid_auto_rows": null,
            "grid_column": null,
            "grid_gap": null,
            "grid_row": null,
            "grid_template_areas": null,
            "grid_template_columns": null,
            "grid_template_rows": null,
            "height": null,
            "justify_content": null,
            "justify_items": null,
            "left": null,
            "margin": null,
            "max_height": null,
            "max_width": null,
            "min_height": null,
            "min_width": null,
            "object_fit": null,
            "object_position": null,
            "order": null,
            "overflow": null,
            "overflow_x": null,
            "overflow_y": null,
            "padding": null,
            "right": null,
            "top": null,
            "visibility": null,
            "width": null
          }
        },
        "d4f496b8203948fd902b5da10fbd9cb9": {
          "model_module": "@jupyter-widgets/base",
          "model_name": "LayoutModel",
          "model_module_version": "1.2.0",
          "state": {
            "_model_module": "@jupyter-widgets/base",
            "_model_module_version": "1.2.0",
            "_model_name": "LayoutModel",
            "_view_count": null,
            "_view_module": "@jupyter-widgets/base",
            "_view_module_version": "1.2.0",
            "_view_name": "LayoutView",
            "align_content": null,
            "align_items": null,
            "align_self": null,
            "border": null,
            "bottom": null,
            "display": null,
            "flex": null,
            "flex_flow": null,
            "grid_area": null,
            "grid_auto_columns": null,
            "grid_auto_flow": null,
            "grid_auto_rows": null,
            "grid_column": null,
            "grid_gap": null,
            "grid_row": null,
            "grid_template_areas": null,
            "grid_template_columns": null,
            "grid_template_rows": null,
            "height": null,
            "justify_content": null,
            "justify_items": null,
            "left": null,
            "margin": null,
            "max_height": null,
            "max_width": null,
            "min_height": null,
            "min_width": null,
            "object_fit": null,
            "object_position": null,
            "order": null,
            "overflow": null,
            "overflow_x": null,
            "overflow_y": null,
            "padding": null,
            "right": null,
            "top": null,
            "visibility": null,
            "width": null
          }
        },
        "34d77b0aa7ba4033818224c9e9e96e42": {
          "model_module": "@jupyter-widgets/controls",
          "model_name": "DescriptionStyleModel",
          "model_module_version": "1.5.0",
          "state": {
            "_model_module": "@jupyter-widgets/controls",
            "_model_module_version": "1.5.0",
            "_model_name": "DescriptionStyleModel",
            "_view_count": null,
            "_view_module": "@jupyter-widgets/base",
            "_view_module_version": "1.2.0",
            "_view_name": "StyleView",
            "description_width": ""
          }
        },
        "dd15385ed7004ae4ae75e4b136df03bd": {
          "model_module": "@jupyter-widgets/base",
          "model_name": "LayoutModel",
          "model_module_version": "1.2.0",
          "state": {
            "_model_module": "@jupyter-widgets/base",
            "_model_module_version": "1.2.0",
            "_model_name": "LayoutModel",
            "_view_count": null,
            "_view_module": "@jupyter-widgets/base",
            "_view_module_version": "1.2.0",
            "_view_name": "LayoutView",
            "align_content": null,
            "align_items": null,
            "align_self": null,
            "border": null,
            "bottom": null,
            "display": null,
            "flex": null,
            "flex_flow": null,
            "grid_area": null,
            "grid_auto_columns": null,
            "grid_auto_flow": null,
            "grid_auto_rows": null,
            "grid_column": null,
            "grid_gap": null,
            "grid_row": null,
            "grid_template_areas": null,
            "grid_template_columns": null,
            "grid_template_rows": null,
            "height": null,
            "justify_content": null,
            "justify_items": null,
            "left": null,
            "margin": null,
            "max_height": null,
            "max_width": null,
            "min_height": null,
            "min_width": null,
            "object_fit": null,
            "object_position": null,
            "order": null,
            "overflow": null,
            "overflow_x": null,
            "overflow_y": null,
            "padding": null,
            "right": null,
            "top": null,
            "visibility": null,
            "width": null
          }
        },
        "d54bfd0ad5ca46cda688a2a8ebe238a5": {
          "model_module": "@jupyter-widgets/controls",
          "model_name": "ProgressStyleModel",
          "model_module_version": "1.5.0",
          "state": {
            "_model_module": "@jupyter-widgets/controls",
            "_model_module_version": "1.5.0",
            "_model_name": "ProgressStyleModel",
            "_view_count": null,
            "_view_module": "@jupyter-widgets/base",
            "_view_module_version": "1.2.0",
            "_view_name": "StyleView",
            "bar_color": null,
            "description_width": ""
          }
        },
        "9ef38f811d994fe294e73aaa0d5d4a57": {
          "model_module": "@jupyter-widgets/base",
          "model_name": "LayoutModel",
          "model_module_version": "1.2.0",
          "state": {
            "_model_module": "@jupyter-widgets/base",
            "_model_module_version": "1.2.0",
            "_model_name": "LayoutModel",
            "_view_count": null,
            "_view_module": "@jupyter-widgets/base",
            "_view_module_version": "1.2.0",
            "_view_name": "LayoutView",
            "align_content": null,
            "align_items": null,
            "align_self": null,
            "border": null,
            "bottom": null,
            "display": null,
            "flex": null,
            "flex_flow": null,
            "grid_area": null,
            "grid_auto_columns": null,
            "grid_auto_flow": null,
            "grid_auto_rows": null,
            "grid_column": null,
            "grid_gap": null,
            "grid_row": null,
            "grid_template_areas": null,
            "grid_template_columns": null,
            "grid_template_rows": null,
            "height": null,
            "justify_content": null,
            "justify_items": null,
            "left": null,
            "margin": null,
            "max_height": null,
            "max_width": null,
            "min_height": null,
            "min_width": null,
            "object_fit": null,
            "object_position": null,
            "order": null,
            "overflow": null,
            "overflow_x": null,
            "overflow_y": null,
            "padding": null,
            "right": null,
            "top": null,
            "visibility": null,
            "width": null
          }
        },
        "74ff6fac82c441e8af3ee67a075f8a4a": {
          "model_module": "@jupyter-widgets/controls",
          "model_name": "DescriptionStyleModel",
          "model_module_version": "1.5.0",
          "state": {
            "_model_module": "@jupyter-widgets/controls",
            "_model_module_version": "1.5.0",
            "_model_name": "DescriptionStyleModel",
            "_view_count": null,
            "_view_module": "@jupyter-widgets/base",
            "_view_module_version": "1.2.0",
            "_view_name": "StyleView",
            "description_width": ""
          }
        }
      }
    },
    "accelerator": "GPU",
    "gpuClass": "standard"
  },
  "cells": [
    {
      "cell_type": "markdown",
      "source": [
        "![KeyVisual_DataLitMT - Kopie.jpg](data:image/jpeg;base64,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)\n",
        "\n",
        "# Data Evaluation – Advanced Level\n",
        "**MT Quality Score Calculator for Metrics Based on String Matching and for Embedding-based Metrics**"
      ],
      "metadata": {
        "id": "OaHdVJZpHWys"
      }
    },
    {
      "cell_type": "markdown",
      "source": [
        "# Introduction\n",
        "\n",
        "This is a Colab notebook for calculating automatic metrics for machine translation (MT) quality evaluation, which covers the *Data Evaluation* dimension of the [DataLit<sup>MT</sup> Competence Matrix](https://itmk.github.io/The-DataLitMT-Project/matrix/) and here particularly the subdimensions of *Data Analysis*, *Data Verbalisation* (to some extent) and *Data Interpretation*. Given that MT systems are increasingly used as productivity-enhancing tools in the professional translation process, both manual and automatic evaluation of MT output become more and more important. Automatic MT quality evaluation is part of *Technical MT Literacy*, as illustrated in the [Professional Machine Translation Literacy Framework](https://itmk.github.io/The-DataLitMT-Project/framework/#professional-mt-literacy). In this notebook, we will introduce two traditional MT quality metrics based on string matching and two modern embedding-based metrics, and we will illustrate the differences between these metrics. After working through this notebook, you should have a good grasp of how automatic MT quality evaluation works and how the various scores differ from each other.\n",
        "\n",
        "The code used for the score calculations in this notebook is adopted from the Natural Language Toolkit ([NLTK](https://www.nltk.org/)) and the respective GitHub repositories of each metric (references will be given throughout the notebook). The basic concepts employed in the various MT quality scores will be explained by introducing the individual metrics and illustrating how they work and how their scores are to be interpreted.\n",
        "\n",
        "All metrics presented in this notebook (with the exception of the COMET model for MT quality estimation covered in section 4.2) are based on a comparison between a machine-translated sentence (which is often called *hypothesis* in MT research) and a corresponding human reference translation (*reference*), which is the 'gold standard' that any MT hypothesis should strive to achieve (in the logic of automatic MT quality metrics). The reference can already exist (e. g., an official translation of specific texts) or you can create it yourself by either translating the source text yourself or by post-editing the output of an MT system.\n",
        "\n",
        "The fundamental distinction we make in this notebook is between traditional MT quality scores which rely on exact string matching between string A (MT output/hypothesis) and string B (reference translation/gold standard) to calculate the similarity or dissimilarity between the two strings, and embedding-based metrics, which use the concept of word *embeddings* to calculate the (dis)similarity between hypothesis and reference based on the relative proximity of their word embeddings in high-dimensional vector space. If you’re confused right now, don’t worry, we will explain all of this in more detail in the course of this notebook."
      ],
      "metadata": {
        "id": "AN8d0biYKttO"
      }
    },
    {
      "cell_type": "markdown",
      "source": [
        "## 0 Housekeeping\n",
        "\n",
        "You can run all cells in this notebook without having to change any of the code. However, in the examples discussed below, feel free to enter your own MT and reference sentences, if you'd like to calculate individual scores.\n",
        "\n",
        "First, we need to ensure that we installed/upgraded the Python installer *pip*, which we will use to install external libraries in our notebook. To do so, run the cell below."
      ],
      "metadata": {
        "id": "giCwQH7e9sQg"
      }
    },
    {
      "cell_type": "code",
      "source": [
        "# Upgrade to the current version of pip\n",
        "!pip install --upgrade pip"
      ],
      "metadata": {
        "id": "NyqBfxnx6hqp"
      },
      "execution_count": null,
      "outputs": []
    },
    {
      "cell_type": "markdown",
      "source": [
        "That’s it, you’re ready to go!"
      ],
      "metadata": {
        "id": "QswDXF2qCGS3"
      }
    },
    {
      "cell_type": "markdown",
      "source": [
        "# String-based Metrics"
      ],
      "metadata": {
        "id": "E5-WBIy5B-T7"
      }
    },
    {
      "cell_type": "markdown",
      "source": [
        "In this section, we cover traditional MT quality evaluation metrics which are based on the comparison of two strings, i.e., the MT output/hypothesis and the human reference translation. A full understanding of these string matching-based metrics relies on understanding the three basic concepts of *precision*, *recall* and *n-gram*. In order to avoid overcrowding the current notebook, we created [a companion notebook for automatic MT quality evaluation metrics based on string matching](https://colab.research.google.com/drive/1G0uwf5kPG5d5kmd-LbvkkssKoza9N622?usp=sharing), which covers these three concepts in detail. You should get an adequate understanding of traditional MT quality metrics without working through this companion notebook. However, if you want to get down to the nuts and bolts of these metrics, the companion notebook is the place to start."
      ],
      "metadata": {
        "id": "Zjc16TYWCJzE"
      }
    },
    {
      "cell_type": "markdown",
      "source": [
        "## 1 BLEU (a similarity measure)\n",
        "\n",
        "BLEU is an acronym for **B**i**L**ingual **E**valuation **U**nderstudy. It was originally proposed in [Papineni et al. (2002): BLEU: A Method for Automatic Evaluation of Machine Translation](https://www.aclweb.org/anthology/P02-1040.pdf). BLEU is still a commonly used automatic MT quality score because it is widely known in MT research and practice and it often achieves reasonably good correlations with human quality judgements. (A high correlation with human quality judgements is considered the ultimate ‘seal of approval’ for any automatic MT quality evaluation metric.)\n",
        "\n",
        "BLEU is a similarity measure, which derives its name from the fact that it measures the degree of similarity between two strings (i.e., the degree of similarity between the machine-translated sentence and the human-translated reference sentence). The closer the machine translation is to the reference translation, the better is the quality of the MT output (remember that we consider the reference to be our gold standard). Therefore, the *higher* the BLEU score calculated for a given MT output/reference pair, the *higher* the quality of the MT output is assumed to be, and vice versa. BLEU is calculated using the following formula:\n",
        "\n",
        "$$BLEU = min(1, \\frac{hypothesis\\;length}{reference\\;length})(\\displaystyle\\prod_{i=1}^{n} precision_i)^{\\frac{1}{n}}$$\n",
        "\n",
        "Let's break this down:\n",
        "\n",
        "$(\\displaystyle\\prod_{i=1}^{n} precision_i)^{\\frac{1}{n}}$: This part of the formula looks somewhat complicated, but it is actually quite simple. It says:  \n",
        "\n",
        "**1)** $precision_i$: Find the individual precision values (n-grams that appear both in the hypothesis and in the reference) for 1-grams, 2-grams, 3-grams and 4-grams (the upper limit of 4 is not given in the formula, but the common BLEU score implementations used in MT research compute up to the n-gram value of 4). This will give you values such as $\\frac{4}{7}$ (4 out of 7 possible 1-gram matches), $\\frac{3}{6}$ (3 out of 6 possible 2-gram matches), $\\frac{2}{5}$ (2 out of 5 possible 3-gram matches) and $\\frac{1}{4}$ (1 out of 4 possible 4-gram matches). (These are fictional values used merely for illustration purposes. We’ll discuss real BLEU scores below.)\n",
        "\n",
        "**2)** $\\displaystyle\\prod_{i=1}^{n}$ and $\\frac{1}{n}$: Calculate the geometric mean of the n-gram precision values. To calculate the geometric mean, we multiply our $n$ precision values and then take the $n$-th root of the product of these values. In our example, we have 1- to 4-grams (four precision values, therefore $n = 4$), so we multiply $\\frac{4}{7}\\times\\frac{3}{6}\\times\\frac{2}{5}\\times\\frac{1}{4}$ and then take the fourth root of this product. Calculating the $n$-th root of a number is equivalent to raising this number to the exponent $\\frac{1}{n}$ ($\\frac{1}{4}$ in our example). So, our final calculation in this case would be $(\\frac{4}{7}\\times\\frac{3}{6}\\times\\frac{2}{5}\\times\\frac{1}{4})^{\\frac{1}{4}}$.    \n",
        "\n",
        "\n",
        "$min(1, \\frac{hypothesis\\;length}{reference\\;length})$: This part of the formula is called *brevity penalty* and it penalizes MT hypotheses that are shorter than their references (if the hypothesis is shorter than the reference, we fear that the MT system forgot to translate certain words). You may have noticed that BLEU works with precision but not recall values. The brevity penalty is BLEU's 'substitute' for recall, if you will. Suppose our hypothesis contains 6 words and the reference contains 7. If we plug these values into the formula, we get $min(1, \\frac{6}{7})$. This simply means: take the smaller of the two values (here, $\\frac{6}{7}$) and multiply it with the previous part of the BLEU formula. Since we multiply with a value smaller than 1, the overall BLEU score will decrease as a result of this multiplication. In other words, a brevity penalty was applied which reduces the overall BLEU score. If the hypothesis contained 7 words and the reference 6 words, we'd get $min(1, \\frac{7}{6})$. In this case, the smaller of the two values is 1, and if we multiply the previous part of the BLEU formula with 1, nothing happens. In other words, in this case (where the hypothesis is longer than the reference) no brevity penalty is applied.\n",
        "\n",
        "BLEU scores published in official machine translation competitions such as the [Conference on Machine Translation (WMT)](http://www.statmt.org/wmt20/) are calculated using the [SacreBLEU](https://github.com/mjpost/sacrebleu) package. SacreBLEU is a standardised method for BLEU score calculation allowing the comparison of BLEU scores provided by different MT developers for different MT systems. sacreBLEU was originally proposed in [Post (2018): A Call for Clarity in Reporting BLEU Scores](https://arxiv.org/abs/1804.08771). To follow good industry practice, we also use sacreBLEU in this notebook."
      ],
      "metadata": {
        "id": "ZHoqS9kl-3G-"
      }
    },
    {
      "cell_type": "markdown",
      "source": [
        "### 1.0 Installing sacreBLEU\n",
        "\n",
        "Run the cell below to install sacreBLEU."
      ],
      "metadata": {
        "id": "LfxlQwReReTv"
      }
    },
    {
      "cell_type": "code",
      "source": [
        "# Import sacreBLEU functions\n",
        "!pip install sacrebleu\n",
        "import sacrebleu"
      ],
      "metadata": {
        "id": "iZXrmuZQCT59"
      },
      "execution_count": null,
      "outputs": []
    },
    {
      "cell_type": "markdown",
      "source": [
        "###1.1 Short Example\n",
        "\n",
        "In the example below, we define a human reference sentence and a machine-translated hypothesis. For these two sentences (which we’ll encounter at various points in this notebook), we can calculate a BLEU score. Run the following cell to do so."
      ],
      "metadata": {
        "id": "MP_pf8P9nAKB"
      }
    },
    {
      "cell_type": "code",
      "source": [
        "# Define reference and hypothesis\n",
        "hypothesis_sacreBLEU = ['I drove the automobile to the gasoline station'] \n",
        "reference_sacreBLEU = ['I drove the car to the gas station']                                                                                                                                                 \n",
        "\n",
        "# Calculate and print sacreBLEU score\n",
        "sacrebleu.corpus_bleu(hypothesis_sacreBLEU, [reference_sacreBLEU])"
      ],
      "metadata": {
        "id": "JP6AGRWf-411",
        "colab": {
          "base_uri": "https://localhost:8080/"
        },
        "outputId": "50219ed5-b9d0-41ff-8a0e-7b8fb2c1c456"
      },
      "execution_count": 3,
      "outputs": [
        {
          "output_type": "execute_result",
          "data": {
            "text/plain": [
              "BLEU = 27.05 75.0/42.9/16.7/10.0 (BP = 1.000 ratio = 1.000 hyp_len = 8 ref_len = 8)"
            ]
          },
          "metadata": {},
          "execution_count": 3
        }
      ]
    },
    {
      "cell_type": "markdown",
      "source": [
        "As you can see, we get a BLEU score of 27.05 (indicated by *BLEU = 27.05*). The scale here ranges from 0 to 100, so 27.05 is a below-average value (note that the two sentences express basically the same meaning, albeit using slightly different words). In real-life MT quality evaluation scenarios, BLEU scores are rarely as high as 100 (which would mean that the MT output is identical to the reference translation) and usually start being competitive from 20 upward.\n",
        "Above, you can see four additional values following the BLEU score. Those are the values of the individual n-gram precisions from the BLEU formula discussed above. So, for 1-gram precision, it scores 75.0 (i.e., 6 of 8 words in the hypothesis are also in the reference, which is equal to 75%), for 2-gram precision, it scores 42.9 (example: 'I drove' and 'drove the', but not 'the automobile'), for 3-gram precision, it scores 16.7 (only 'I drove the') and for 4-gram precision it scores 10.0 (no 4-gram overlaps between hypothesis and reference). You may wonder why we get a 4-gram precision value of 10.0 even if there are no 4-gram overlaps in our example. The reason is that, in such cases, a so-called *smoothing function* is applied, which assigns a small value (here, 10.0) to the n-gram precision value that would otherwise be 0. This is done to avoid that, if one of the n-gram precisions is zero, the overall BLEU score drops to 0 (remember that we multiply the individual n-gram precisions, and if one of the factors is 0, the whole product will be 0). We won't discuss smoothing in any further detail here. For an overview of different smoothing methods used in BLEU score calculation, see [Chen/Cherry (2014): A Systematic Comparison of Smoothing Techniques for Sentence-Level BLEU](https://www.aclweb.org/anthology/W14-3346/). In the code cell above, further values are indicates. *BP* stands for *brevity penalty*, and ratio is calculated by dividing the length of the hypothesis (*hyp_len*) by the length of the reference (*ref_len*), as described in the BLEU formula above. Since hypothesis and reference are of equal length, the ratio and hence the brevity penalty will be 1. In other words, nothing happens, because no brevity penalty is applied (again, see our discussion of the BLEU formula above)."
      ],
      "metadata": {
        "id": "BeIe8XvX--EN"
      }
    },
    {
      "cell_type": "markdown",
      "source": [
        "###1.2 Your Own Example\n",
        "\n",
        "If you would like to test BLEU score calculation with an example of your own, run the first code cell below and then type in your own example sentences in the field below the cell (both times, confirm with Enter). Then, run the second cell below in order to calculate the BLEU score for your sentences."
      ],
      "metadata": {
        "id": "U-cMBM0vnCjX"
      }
    },
    {
      "cell_type": "code",
      "source": [
        "# Enter machine-translated sentence (hypothesis) and the human reference translation (reference)\n",
        "own_hypothesis = input(\"\\nEnter the machine-translated sentence here: \")\n",
        "own_reference = input(\"\\nEnter the human-translated sentence here: \")"
      ],
      "metadata": {
        "id": "5O_OqusknG0i"
      },
      "execution_count": null,
      "outputs": []
    },
    {
      "cell_type": "code",
      "source": [
        "# Calculate and print your own sacreBLEU score\n",
        "sacrebleu.corpus_bleu([own_hypothesis], [[own_reference]])"
      ],
      "metadata": {
        "id": "28o4hYpQnSxw"
      },
      "execution_count": null,
      "outputs": []
    },
    {
      "cell_type": "markdown",
      "source": [
        "If you use hypothesis and reference sentences of different length, pay particular attention to the values for *BP* and *ratio*, which will be more interesting than in our example above. You can always come back here to calculate further BLEU scores."
      ],
      "metadata": {
        "id": "XeHtE-8cFcXy"
      }
    },
    {
      "cell_type": "markdown",
      "source": [
        "## 2 TER\n",
        "\n",
        "In addition to string-based *similarity* measures, there are also string-based *distance* measures. These derive their name from the fact that they measure the degree of *dissimilarity* or distance between two strings. Accordingly, the *higher* the score calculated by these metrics, the *lower* the quality of the MT output is assumed to be, and vice versa (opposite to the scores of similarity measures such as BLEU).\n",
        "\n",
        "**TER** is an acronym for **T**ranslation **E**dit **R**ate, originally proposed in [Snover et al. (2006): A Study of Translation Edit Rate with Targeted Human Annotation](http://www.cs.umd.edu/~snover/pub/amta06/ter_amta.pdf). TER is calculated using the following formula:  \n",
        "\n",
        "$$TER = \\frac{substitutions + insertions + deletions + shifts}{reference\\;length}$$  \n",
        "\n",
        "So, TER simply sums the number of editing operations required to transform a hypothesis into a reference and divides the number of editing operations through the length of the reference in order to normalize the score (normalizing the score makes it comparable to other TER scores which may have been calculated for reference sentences with different lengths). The editing operations allowed are substituting one element for another (substitution), inserting or deleting an element (insertion/deletion) and moving an element to another position in the string (shift). TER is usually calculated on the basis of words, however, a character-based TER calculation is also possible (called [characTER](https://aclanthology.org/W16-2342/)). In this notebook, we use the standard word-based TER."
      ],
      "metadata": {
        "id": "3FpqLQEKzHj9"
      }
    },
    {
      "cell_type": "markdown",
      "source": [
        "### 2.0 Installing TER\n",
        "\n",
        "For calculating TER, we need to install the [pyter](https://pypi.org/project/pyter3/) and import some NLTK functions. This is done by running the code below."
      ],
      "metadata": {
        "id": "hr2_p6o40TwP"
      }
    },
    {
      "cell_type": "code",
      "source": [
        "# Install the current version of the pyter package\n",
        "!pip install --upgrade pyter3\n",
        "\n",
        "# Import ter() and word_tokenize() functions\n",
        "from pyter import ter\n",
        "from nltk import word_tokenize\n",
        "\n",
        "import nltk\n",
        "nltk.download('punkt')"
      ],
      "metadata": {
        "id": "ZM9KNEjEzJU_"
      },
      "execution_count": null,
      "outputs": []
    },
    {
      "cell_type": "markdown",
      "source": [
        "### 2.1 Short Example\n",
        "\n",
        "In the example below, we define the same reference and hypothesis sentences we used for our BLEU score calculation. For these two sentences, we can then calculate a TER score. Run the following cell to calculate the score."
      ],
      "metadata": {
        "id": "0XgQNGOP0Mfl"
      }
    },
    {
      "cell_type": "code",
      "source": [
        "# Define reference and hypothesis\n",
        "hypothesis_ter = 'I drove the automobile to the gasoline station'\n",
        "reference_ter = 'I drove the car to the gas station'\n",
        "\n",
        "# Calculate and print Translation Edit Rate\n",
        "TER = ter(word_tokenize(hypothesis_ter), word_tokenize(reference_ter))\n",
        "print(f\"TER: {TER}\")"
      ],
      "metadata": {
        "id": "VyGZmrtr0Of9",
        "colab": {
          "base_uri": "https://localhost:8080/"
        },
        "outputId": "f051c6c0-1203-496c-ca54-6784c0e94a80"
      },
      "execution_count": 5,
      "outputs": [
        {
          "output_type": "stream",
          "name": "stdout",
          "text": [
            "TER: 0.25\n"
          ]
        }
      ]
    },
    {
      "cell_type": "markdown",
      "source": [
        "As you can see, we obtain a TER score of 0.25 (with the scale of possible scores ranging from 0 to 1). We arrive at this value as follows: If we look at our hypothesis/reference pair, we see that we can transform the hypothesis into the reference by (1) substituting *automobile* by *car* and (2) by substituting *gasoline* by *gas*. We sum up the two editing operations and divide them by the length of the reference sentence (8 words), and 2/8 = 0.25. In other words, our editing effort amounted to 25 %, which is rather low, indicating a good quality of the MT output (remember, the lower the TER score, the higher and MT quality and vice versa). Note that our BLEU score for our hypothesis/reference pair indicated a rather poor MT quality (27.05 of 100, with BLEU being a similarity measure -> the higher the score the better the MT quality and vice versa), while our TER score indicates a good MT quality. This is a good lesson to learn: Automatic MT quality scores should never be taken at face value. Always ask yourself how the metric for which the score was calculated actually works and *what the score means in relation to the operating principle of this metric!*\n",
        "\n",
        "TER or similar distance measures are often used in the translation industry for calculating the post-editing effort involved in MT-assisted translation projects (which can then be used for price calculation). For more information on this topic, see, e.g. the article by [Kirchner (2020)](https://aclanthology.org/2020.eamt-1.38/)."
      ],
      "metadata": {
        "id": "Gpta-A3xGukd"
      }
    },
    {
      "cell_type": "markdown",
      "source": [
        "### 2.2 Your Own Example\n",
        "\n",
        "If you would like to test TER score calculation with an example of your own, run the first code cell below and then type in your own example sentences in the field below the cell (both times, confirm with Enter). Then, run the second cell below in order to calculate the TER score for your sentences (the same as under 1.2)."
      ],
      "metadata": {
        "id": "E04o2Nss07VU"
      }
    },
    {
      "cell_type": "code",
      "source": [
        "# Enter machine-translated sentence (hypothesis) and the human reference translation (reference)\n",
        "own_ter_hypothesis = input(\"\\nEnter the machine-translated sentence here: \")\n",
        "own_ter_reference = input(\"\\nEnter the human-translated sentence here: \")"
      ],
      "metadata": {
        "id": "81wYgR_S095Q"
      },
      "execution_count": null,
      "outputs": []
    },
    {
      "cell_type": "code",
      "source": [
        "# Calculate and print your own Translation Edit Rate\n",
        "TER = ter(word_tokenize(own_ter_hypothesis), word_tokenize(own_ter_reference))\n",
        "print(f\"TER: {TER}\")"
      ],
      "metadata": {
        "id": "ZY7_dIBQSNgQ"
      },
      "execution_count": null,
      "outputs": []
    },
    {
      "cell_type": "markdown",
      "source": [
        "Again, feel free to come back here any time to calculate further TER scores."
      ],
      "metadata": {
        "id": "i_bmYjykHIzK"
      }
    },
    {
      "cell_type": "markdown",
      "source": [
        "# Embedding-based Metrics BERTScore and COMET\n",
        "\n",
        "Now that we are familiar with traditional MT quality metrics based on string matching, we can move on to modern quality metrics which are based on embeddings. These embedding-based metrics are a bit more complex than the traditional string matching-based metrics. In particular, we need to understand the concept of *word embeddings*, which are high-dimensional vector representations of words. Again, in order to avoid overcrowding the current notebook, we have created [a companion notebook for embedding-based MT quality metrics](https://colab.research.google.com/drive/1BUCBwdDnqyyFnJULtmLoxfqP8bZcBQMa?usp=sharing). We highly recommend that you work through this companion notebook before moving on to the metrics discussed in the following sections. Once you have a good grasp at what word embeddings are and how they work, you are well-equipped to understand the basic operating principle not only of the embedding-based metrics discussed here but also of high-performing natural language processing technologies such as neural machine translation or large language models such as ChatGPT (all of which use word embeddings as their fundamental building blocks). For the following discussion, we assume such a basic understanding of word embeddings.\n",
        "Within modern embedding-based metrics, a distinction can be made between metrics which rely solely on semantic *similarity* between hypothesis and reference based on proximity in vector space, and metrics which rely both on this semantic similarity in vector space and on previous human quality judgements on similar hypothesis-reference pairs. In the following sections, we will discuss examples of both types of embedding-based metrics.\n"
      ],
      "metadata": {
        "id": "XuETdpEGB52t"
      }
    },
    {
      "cell_type": "markdown",
      "metadata": {
        "id": "2DNPdx14nQ28"
      },
      "source": [
        "## 3 BERTScore: semantic similarity in vector space\n",
        "\n",
        "BERTScore is an embedding-based metric relying on semantic similarity in vector space (a ‘semantics-only score’, if you will). BERTScore was originally proposed in [Zhang et al. (2019): BERTScore: Evaluating Text Generation with BERT](https://arxiv.org/abs/1904.09675). It uses the pre-trained contextual word embeddings from Google's neural language model BERT (see [Devlin et al. (2019): BERT: Pre-Training of Deep Bidirectional Transformers for Language Understanding](https://www.aclweb.org/anthology/N19-1423/)) in order to match words in hypothesis and reference sentences based on the cosine similarity of their corresponding word vectors (see our companion notebook). You can think of contextual word embeddings as an upgraded version of *normal* or *standard* word embeddings, as calculated in our companion notebook. Standard word embeddings are context-independent, meaning that each word is represented by just one vector, regardless of how many senses this word actually has and at which sentence positions it actually occurs. BERT, on the other hand, generates different embeddings for a word depending on its context, i.e., depending on the sense in which it is used and where in the sentence it occurs. Therefore, contextual word embeddings are more powerful representations than standard word embeddings. More information on the difference between standard and contextual word embeddings can be found [here](https://www.quora.com/What-are-the-main-differences-between-the-word-embeddings-of-ELMo-BERT-Word2vec-and-GloVe).\n",
        "\n",
        "The actual BERTScore computation is visualized in the figure below (taken from Zhang et al. 2020:4):\n",
        "\n",
        "<img src=\"https://raw.githubusercontent.com/Tiiiger/bert_score/master/bert_score.png\">\n",
        "\n",
        "In a first step, BERT tokenizes the hypothesis (here called *candidate*) and reference sentences and converts the individual tokens into contextual word embeddings (*Contextual Embedding* in the figure above). Then, the cosine similarity between each word embedding in the hypothesis and each word embedding in the reference is calculated (see notebook on the fundamentals of word embeddings). In the figure above, this process is called *Pairwise Cosine Similarity*. In the resulting similarity matrix, we match each hypothesis token to the most similar reference token simply by identifying which pairings have the highest similarity score (so-called *greedy matching*). In the figure above, this process is called *Maximum Similarity*. Optionally, BERTScore can also give a higher weighting to rare words. To establish such rare words, BERTScore uses a measure called *inverse document frequency (idf weights)*, which we'll not cover here in any more detail. In the figure above, this process is called *Importance Weighting*.  \n",
        "Based on the matching of the contextual embeddings according to their cosine similarity, BERTScore then calculates *Recall* ($R_{BERT}$) and *Precision* ($P_{BERT}$) and combines these two scores into an *F-Measure* score ($F_{BERT}$). So, to put it very simply, BERTScore is quite similar to the traditional F-Measure score introduced in our companion notebook for traditional MT quality evaluation metrics based on string matching. The difference is that the traditional F-Measure relies on precision and recall values established by exact string matching, whereas $F_{BERT}$ uses precision and recall values that were established by computing vector similarities between contextual word embeddings in high-dimensional vector space. Let’s calculate our own BERTScores."
      ]
    },
    {
      "cell_type": "markdown",
      "metadata": {
        "id": "WFXUUb3Rwh-U"
      },
      "source": [
        "### 3.0 Installing BERTScore\n",
        "\n",
        "First, we need to install the packages required to compute BERTScore. BERTScore is implemented as part of the bert-score package available in the [official BERTScore GitHub repository](https://github.com/Tiiiger/bert_score). Since embedding-based metrics rely on large embedding models, installing these metrics will usually take considerably longer than installing and importing traditional MT quality metrics."
      ]
    },
    {
      "cell_type": "code",
      "source": [
        "# Install BERTScore\n",
        "!pip install bert-score\n",
        "from bert_score import score"
      ],
      "metadata": {
        "id": "I8orfbTKXqtp"
      },
      "execution_count": null,
      "outputs": []
    },
    {
      "cell_type": "markdown",
      "source": [
        "### 3.1 Short Example\n",
        "Run the following cells to calculate BERTScore for the same hypothesis-reference pair we used for our BLEU and TER examples."
      ],
      "metadata": {
        "id": "ofW5yw_j4Y7b"
      }
    },
    {
      "cell_type": "code",
      "source": [
        "# Define hypothesis and reference\n",
        "hypothesis = ['I drove the automobile to the gasoline station']\n",
        "reference = ['I drove the car to the gas station']"
      ],
      "metadata": {
        "id": "4FYWY6IoTgn8"
      },
      "execution_count": 7,
      "outputs": []
    },
    {
      "cell_type": "code",
      "metadata": {
        "id": "Y1oBerglbfSU",
        "colab": {
          "base_uri": "https://localhost:8080/",
          "height": 435,
          "referenced_widgets": [
            "adb76a3e0f71474da9fd74b9e4a07f85",
            "251bf23bb60b47d39dc99116ba30b4d4",
            "1e7f38991caa46e8b2d4c1823a516b73",
            "dce877221c5d4fcc8546b7aeacaa6ff9",
            "52b3c9fc0c644f7999fe901a924a5061",
            "3bd5e5a44e524d0cad22c8fd65066fa2",
            "397766ce190a4af8a6178b217650f90d",
            "69e3b60f9a3644bdb708077b440fa2dc",
            "fba3f50fcd0d43bda58f86fbece37851",
            "d31605b6bf194ecfa1599216a2cba724",
            "9346091f7e694edbbc9606c9a8a78513",
            "34f1c0b1013e4f7daacf2fe2c6b48768",
            "2a0306c56b2f4fa1b79db5337f269cc1",
            "1a596cc99dc546c991afa930e83704ca",
            "8328190ce90d40fab275ce8dd8a6ffba",
            "c1ecef871cc549c099d2844e6769bf90",
            "d7571bb179a347639c2337dab3c35000",
            "08d48a633d1d4e77978fbc55528ed396",
            "6928e1c11c5f436aabd8cbcc7d30da78",
            "1020bc44df284cb4bb90edb831740758",
            "4a9d3b1e145c427d998e1fcaceb328c9",
            "e251f71b9d094793983a86cd2efc1f1b",
            "1004c2e466d644c3a7357ad44c306b31",
            "708c62dedf7b4d4e9cf1c58ec1d24539",
            "3cf4e9807ef94194aa17437cfb026929",
            "b6ff046318ab4606a723243649d32480",
            "02fb6dbd0e6a4b7aab592566874abf70",
            "f305557846d741db8e1670345b1fa287",
            "fb64fedaaff74e9ea213cc6b430387da",
            "4ba2e5d6b2de4e66b724561da44c27ef",
            "a1fb682243054bd0a30c10923d1a769e",
            "0849e3ef21bf4d588029705e3c006dc5",
            "5482140ad8214fbfa3085b71c51f767a",
            "545daef4d97b4b11bff08f8b12ba54f7",
            "c7f6031bea8145abb9e6f1724b269cb8",
            "928d084ecb204032b982a0d9c2bc2a18",
            "d687eee172934e74b1c78cef4c7a0a5d",
            "e92dc73e7fe64f6b9c4d20f8b1d7befd",
            "7f9aa4b39c9f4fc8a0065752f33f71a8",
            "2623decd58cf4b37a24baa1a56485140",
            "ac31cc5e0c1a41559a715b9520950f86",
            "c3ef088395654c918b10c9975a022df1",
            "89ef6cf98a1d4f93bf2480d1cb64516f",
            "39612a66f4664e8b937707c171e5e84f",
            "bb1ba0f482a041e4985a135120e9ac8b",
            "e7691c459c314cafbb735afc820f0e08",
            "d64d81c7b00644f7ab0fc8d096c9dad5",
            "22d646c86ec94d9cb6de33bca2fdaedf",
            "b07f16fd50834612b7edf368362bda77",
            "ee7c381dc6434de59b7e81a8761b1d07",
            "bdae65c19b89471a9862143eaa604fbe",
            "c1a57460c0874ab3906841f1b2a23c5e",
            "5489daf1e2f840db856b488ad5f9a364",
            "58ad73e4673e443fb1191c31a7887691",
            "b9b81bb79a8747c58dcb212676072d07",
            "f3f3b5acf6584d23af0b7b81ca176970",
            "16141ce6d04d4ea5b444aa98c1b85173",
            "7dd527eac365465e859f1fa42d57cc77",
            "82caed9ba3814038a0865ef48a2b34e9",
            "38c6ffd5239e41c58b024f8e42e8ca4b",
            "d4f496b8203948fd902b5da10fbd9cb9",
            "34d77b0aa7ba4033818224c9e9e96e42",
            "dd15385ed7004ae4ae75e4b136df03bd",
            "d54bfd0ad5ca46cda688a2a8ebe238a5",
            "9ef38f811d994fe294e73aaa0d5d4a57",
            "74ff6fac82c441e8af3ee67a075f8a4a"
          ]
        },
        "outputId": "e1af26c8-7ec9-42c6-ce2f-7a22e80f681e"
      },
      "source": [
        "# Calculate BERTScore\n",
        "P, R, F1 = score(hypothesis, reference, lang=\"en\", rescale_with_baseline=True, verbose=True)\n",
        "# Note here, the language we are working with is English (lang=\"en\"). Change this to lang=\"de\" when working with German sentences, for example.\n",
        "\n",
        "# Print Rbert, Pbert and Fbert\n",
        "print(f\"\\nBERTScore-Recall: {R}\\n\")\n",
        "print(f\"BERTScore-Precision: {P}\\n\")\n",
        "print(f\"BERTScore-F-Measure: {F1}\")"
      ],
      "execution_count": 8,
      "outputs": [
        {
          "output_type": "display_data",
          "data": {
            "text/plain": [
              "Downloading (…)lve/main/config.json:   0%|          | 0.00/482 [00:00<?, ?B/s]"
            ],
            "application/vnd.jupyter.widget-view+json": {
              "version_major": 2,
              "version_minor": 0,
              "model_id": "adb76a3e0f71474da9fd74b9e4a07f85"
            }
          },
          "metadata": {}
        },
        {
          "output_type": "display_data",
          "data": {
            "text/plain": [
              "Downloading (…)olve/main/vocab.json:   0%|          | 0.00/899k [00:00<?, ?B/s]"
            ],
            "application/vnd.jupyter.widget-view+json": {
              "version_major": 2,
              "version_minor": 0,
              "model_id": "34f1c0b1013e4f7daacf2fe2c6b48768"
            }
          },
          "metadata": {}
        },
        {
          "output_type": "display_data",
          "data": {
            "text/plain": [
              "Downloading (…)olve/main/merges.txt:   0%|          | 0.00/456k [00:00<?, ?B/s]"
            ],
            "application/vnd.jupyter.widget-view+json": {
              "version_major": 2,
              "version_minor": 0,
              "model_id": "1004c2e466d644c3a7357ad44c306b31"
            }
          },
          "metadata": {}
        },
        {
          "output_type": "display_data",
          "data": {
            "text/plain": [
              "Downloading (…)\"pytorch_model.bin\";:   0%|          | 0.00/1.43G [00:00<?, ?B/s]"
            ],
            "application/vnd.jupyter.widget-view+json": {
              "version_major": 2,
              "version_minor": 0,
              "model_id": "545daef4d97b4b11bff08f8b12ba54f7"
            }
          },
          "metadata": {}
        },
        {
          "output_type": "stream",
          "name": "stderr",
          "text": [
            "Some weights of the model checkpoint at roberta-large were not used when initializing RobertaModel: ['lm_head.bias', 'lm_head.layer_norm.bias', 'lm_head.dense.bias', 'lm_head.dense.weight', 'lm_head.layer_norm.weight', 'lm_head.decoder.weight']\n",
            "- This IS expected if you are initializing RobertaModel from the checkpoint of a model trained on another task or with another architecture (e.g. initializing a BertForSequenceClassification model from a BertForPreTraining model).\n",
            "- This IS NOT expected if you are initializing RobertaModel from the checkpoint of a model that you expect to be exactly identical (initializing a BertForSequenceClassification model from a BertForSequenceClassification model).\n"
          ]
        },
        {
          "output_type": "stream",
          "name": "stdout",
          "text": [
            "calculating scores...\n",
            "computing bert embedding.\n"
          ]
        },
        {
          "output_type": "display_data",
          "data": {
            "text/plain": [
              "  0%|          | 0/1 [00:00<?, ?it/s]"
            ],
            "application/vnd.jupyter.widget-view+json": {
              "version_major": 2,
              "version_minor": 0,
              "model_id": "bb1ba0f482a041e4985a135120e9ac8b"
            }
          },
          "metadata": {}
        },
        {
          "output_type": "stream",
          "name": "stdout",
          "text": [
            "computing greedy matching.\n"
          ]
        },
        {
          "output_type": "display_data",
          "data": {
            "text/plain": [
              "  0%|          | 0/1 [00:00<?, ?it/s]"
            ],
            "application/vnd.jupyter.widget-view+json": {
              "version_major": 2,
              "version_minor": 0,
              "model_id": "f3f3b5acf6584d23af0b7b81ca176970"
            }
          },
          "metadata": {}
        },
        {
          "output_type": "stream",
          "name": "stdout",
          "text": [
            "done in 2.45 seconds, 0.41 sentences/sec\n",
            "\n",
            "BERTScore-Recall: tensor([0.8669])\n",
            "\n",
            "BERTScore-Precision: tensor([0.8669])\n",
            "\n",
            "BERTScore-F-Measure: tensor([0.8671])\n"
          ]
        }
      ]
    },
    {
      "cell_type": "markdown",
      "metadata": {
        "id": "Ty39-mFynOBk"
      },
      "source": [
        "$R_{BERT}$, $P_{BERT}$ and $F_{BERT}$ are given as tensors, each containing a scalar value. The tensor for $F_{BERT}$ is the final BERTScore for this hypothesis-reference pair. BERTScore rescales this output so that it lies in a range between 0 and 1, with 0 being a very poor and 1 being a very good score (all differences aside, BERTScore is basically a similarity measure, just like BLEU). As you can see, our hypothesis-reference pair is scored very highly (BERTScore-F-Measure = 0.8595) because the two sentences express almost the same meaning, although they differ in their respective surface forms. Remember that our string matching-based metric BLEU scored the same hypothesis-reference pair rather poorly. This illustrates the fundamental difference between traditional metrics based on string matching and modern embedding-based metrics: String-based metrics can only capture formal similarities between two strings whereas embedding-based metrics can capture semantic similarities between two strings, regardless of any formal differences between them. Keep this important difference in mind for future MT quality evaluation scenarios."
      ]
    },
    {
      "cell_type": "markdown",
      "source": [
        "A very convenient feature of BERTScore is its integrated plot function. Using this function, we can plot a similarity matrix four our hypothesis-reference pairs, which looks just like the matrix called *Maximum Similarity* in the figure above. Run the code below to plot your own similarity matrix:"
      ],
      "metadata": {
        "id": "Ycg54DtWJEuJ"
      }
    },
    {
      "cell_type": "code",
      "source": [
        "# Import BERTScore's plot function\n",
        "from bert_score import plot_example\n",
        "\n",
        "# Plot the similarity matrix\n",
        "hyp = hypothesis[0]\n",
        "ref = reference[0]\n",
        "plot_example(hyp, ref, lang=\"en\")"
      ],
      "metadata": {
        "id": "il1n0nTpJG14",
        "colab": {
          "base_uri": "https://localhost:8080/",
          "height": 603
        },
        "outputId": "ef19bccf-3024-480d-d244-f024c6fec405"
      },
      "execution_count": null,
      "outputs": [
        {
          "output_type": "stream",
          "name": "stderr",
          "text": [
            "Some weights of the model checkpoint at roberta-large were not used when initializing RobertaModel: ['lm_head.layer_norm.weight', 'lm_head.dense.bias', 'lm_head.decoder.weight', 'lm_head.bias', 'lm_head.layer_norm.bias', 'lm_head.dense.weight']\n",
            "- This IS expected if you are initializing RobertaModel from the checkpoint of a model trained on another task or with another architecture (e.g. initializing a BertForSequenceClassification model from a BertForPreTraining model).\n",
            "- This IS NOT expected if you are initializing RobertaModel from the checkpoint of a model that you expect to be exactly identical (initializing a BertForSequenceClassification model from a BertForSequenceClassification model).\n"
          ]
        },
        {
          "output_type": "display_data",
          "data": {
            "text/plain": [
              "<Figure size 576x576 with 2 Axes>"
            ],
            "image/png": "[encoded data removed]"
          },
          "metadata": {
            "needs_background": "light"
          }
        }
      ]
    },
    {
      "cell_type": "markdown",
      "source": [
        "In this similarity matrix, you can see, for example, the BERTScore assigns a very high similarity value of 0.92 to the two words *automobile* and *car*, and an even higher value of 0.95 to the two words *gasoline* and *gas*. This again illustrates that embedding-based metrics measure *semantic* similarity and not *formal* similarity (while string-based metrics measure formal similarity and not semantic similarity)."
      ],
      "metadata": {
        "id": "zEIsiL8kt_bY"
      }
    },
    {
      "cell_type": "markdown",
      "source": [
        "### 3.2 Your own Example. \n",
        "\n",
        "You can type in your own English hypothesis and reference sentences to calculate a BERTScore (same as above).\n",
        "BERTScore covers a large range of languages listed [here](https://github.com/google-research/bert/blob/master/multilingual.md#list-of-languages). Feel free to change hypothesis and reference according to your requirements. Note: For languages other than English, the command *lang=\"en\"* has to be changed to the relevant input language."
      ],
      "metadata": {
        "id": "_n5CXO9LyI1A"
      }
    },
    {
      "cell_type": "code",
      "source": [
        "# Enter machine-translated sentence (hypothesis) and the human reference translation (reference)\n",
        "own_BERT_hypothesis = input(\"\\nEnter the machine-translated sentence here: \")\n",
        "own_BERT_reference = input(\"\\nEnter the human-translated sentence here: \")"
      ],
      "metadata": {
        "id": "PvonpCwtyGPB"
      },
      "execution_count": null,
      "outputs": []
    },
    {
      "cell_type": "code",
      "source": [
        "# Calculate BERTScore\n",
        "P, R, F1 = score([own_BERT_hypothesis], [own_BERT_reference], lang=\"en\", rescale_with_baseline=True, verbose=True)\n",
        "# Remember to change the language lang=\"en\" if you input a non-english sentence (let's say for German: lang=\"de\")\n",
        "\n",
        "# Print Rbert, Pbert and Fbert\n",
        "print(f\"\\nBERTScore-Recall: {R}\\n\")\n",
        "print(f\"BERTScore-Precision: {P}\\n\")\n",
        "print(f\"BERTScore-F-Measure: {F1}\")"
      ],
      "metadata": {
        "id": "wbogagKSyALz"
      },
      "execution_count": null,
      "outputs": []
    },
    {
      "cell_type": "markdown",
      "source": [
        "Run the code below to plot a similarity matrix four your own hypothesis-reference pair. Note: For languages other than English, the command *lang=\"en\"* (in the last line in the code below) has to be changed to the relevant input language."
      ],
      "metadata": {
        "id": "G4bJvh_Fx5D-"
      }
    },
    {
      "cell_type": "code",
      "source": [
        "# Import BERTScore's plot function\n",
        "from bert_score import plot_example\n",
        "\n",
        "# Plot the similarity matrix\n",
        "own_hyp = own_BERT_hypothesis\n",
        "own_ref = own_BERT_reference\n",
        "plot_example(own_hyp, own_ref, lang=\"en\")   # Change language code here if necessary"
      ],
      "metadata": {
        "id": "VW6DSudnxdKZ"
      },
      "execution_count": null,
      "outputs": []
    },
    {
      "cell_type": "markdown",
      "metadata": {
        "id": "pZfNrPeYnBdj"
      },
      "source": [
        "## 4 COMET: semantic similarity + human quality judgements\n",
        "\n",
        "COMET is an embedding-based metric relying on semantic similarity in vector space and trained additionally on human quality judgements. **COMET** is an acronym for **C**rosslingual **O**ptimized **M**etric for **E**valuation of **T**ranslation. It was originally proposed  in [Rei et al. (2020): COMET: A Neural Framework for MT Evaluation](https://www.aclweb.org/anthology/2020.emnlp-main.213/). In contrast to traditional MT quality metrics based on string matching (such as BLEU or TER) and in contrast to the embedding-based metric BERTScore, COMET uses not only the machine-translated hypothesis and the human-translated reference but also the original source sentence. These three sentences are fed into a pre-trained cross-lingual encoder which embeds them in a multilingual vector space. The cross-lingual encoder is based on the multilingual language model *XLM-RoBERTa (XLM-R)*, which was first proposed in [Conneau et al. 2020: Unsupervised Cross-Lingual Representation Learning at Scale](https://arxiv.org/abs/1911.02116). In this multilingual vector space, not only embeddings of words from the same language but also embeddings of words from different languages cluster together based on their shared semantic meaning. Drawing on this multilingual vector space, COMET can establish both the semantic similarity between hypothesis and reference as well as the semantic similarity between source and hypothesis/reference. BERTScore, in contrast, only works with embeddings in a monolingual vector space (you can choose different monolingual vector spaces in BERTScore, but never a multilingual vector space).\n",
        "There are three basic COMET models available, as shown in the figure below:\n",
        "\n",
        "<img src=\"https://raw.githubusercontent.com/Unbabel/COMET/docs-config/docs/source/_static/img/architectures.jpg\">\n",
        "\n",
        "The model on the left side is called *Estimator Model* or *Regression Metric*. The model considers the hypothesis (*h*), the reference translation (*r*) and the source sentence (*s*). For these three sentences, the model obtains contextualised word embeddings from the multilingual vector space of XLM-RoBERTa (*XLM-R*), pools these individual word vectors into three sentence vectors and then concatenates these three sentence vectors into a single vector. Based on this concatenated vector (containing source, hypothesis and reference), a *Feed-Forward Regressor* then calculates the final quality score. The COMET Estimator model is trained on human error annotations based on the [Multidimensional Quality Metrics (MQM) Framework](https://themqm.org) and a human ranking of MT outputs on a 100-point ranking scale (Direct Assessment).\n",
        "\n",
        "The model in the middle is called *Translation Ranking Model* or *Ranking Metric*. Again, this model considers source (*s*) and reference (*r*), but in contrast to the first model, it considers *two* hypotheses, one that was ranked better in a human Direct Assessment (*p*, positive) and one that was considered worse in this assessment (*n*, negative). As in the first model, we obtain contextualised word embeddings from XLM-R, and pool them into sentence vectors. Using a technique called *Triplet Margin Loss* (no need to go into any more detail here), the multilingual vector space of the sentence vectors is then adjusted in such a way that the distance between source vector/reference vector and the vector of the *worse* of the two hypotheses is *increased* (in vector space logic, this equals a *lower* semantic similarity between these vectors) and the distance between the source vector/reference vector and the vector of the *better* of the two hypotheses is *decreased* (in vector space logic, this equals a *higher* semantic similarity between these vectors). When computing an actual quality score, the model only considers source, reference and the hypothesis to be scored. The quality score is calculated as the harmonic mean of the Eucledian distance between hypothesis and source and the Eucledian distance between hypothesis and reference (and now we take a deep breath).\n",
        "\n",
        "The model on the right side is called *Reference-free COMET* or *Referenceless Metric*. It resembles the Estimator Model on the left side but differs from this model and from the Translation Ranking Model in that it considers only a source and a hypothesis and no human reference translation (hence *reference-free* or *referenceless*). What this model performs is not an MT quality *evaluation* but an MT quality *estimation*, since it does not take into account a human reference translation as gold standard, which would tell the model for certain whether it is dealing with a good or a bad MT hypothesis. The Reference-free Model is also trained on human DA rankings and MQM error annotations. \n",
        "An overview of these models together with information on how to load them can be found in the official [COMET GitHub repository](https://github.com/Unbabel/COMET)."
      ]
    },
    {
      "cell_type": "markdown",
      "metadata": {
        "id": "Qd8NEhhSwpD_"
      },
      "source": [
        "### 4.0 Installing COMET\n",
        "First, we need to install the packages required to compute COMET scores. The various COMET models are implemented as part of the unbabel-comet package available in the official [COMET GitHub repository](https://github.com/Unbabel/COMET). Since embedding-based metrics rely on large embedding models, installing COMET and loading the model will usually take some time (same as with BERTScore).\n",
        "\n",
        "Note: Running this cell might result in the notebook requesting you to restart the runtime: \"You must restart the runtime in order to use the newly installed version\". You can restart the runtime in the menu under \"runtime\" --> \"restart runtime\". Then, you must run the cell in chapter 0 and the cell below again before moving on to section 4.1.\n"
      ]
    },
    {
      "cell_type": "code",
      "metadata": {
        "id": "f0XA23gxbCbt"
      },
      "source": [
        "# Install the most recent unbabel-comet package\n",
        "!pip install unbabel-comet==1.1.3\n",
        "\n",
        "# In case this is outdated, check out the newest version or simply uncomment and install the line below\n",
        "#!pip install unbabel-comet"
      ],
      "execution_count": null,
      "outputs": []
    },
    {
      "cell_type": "markdown",
      "source": [
        "Below, we will illustrate two different models: a lightweight version of the original COMET metric and a reference-free quality estimation version that calculates a quality estimation score based solely on a hypothesis and a source sentence."
      ],
      "metadata": {
        "id": "6CAPrb1g7HSS"
      }
    },
    {
      "cell_type": "markdown",
      "source": [
        "### 4.1 Lightweight COMETinho Version of the Estimator/Regression Model\n",
        "\n",
        "One of the most recent and efficient models is COMETinho, [Rei et al. (2022): Searching for COMETinho: The Little Metric That Could](https://aclanthology.org/2022.eamt-1.9/). We also COMETinho in this notebook, as it is a streamlined 'lightweight' version of the original COMET, which offers basically the same performance as the bigger COMET models, but at a much faster speed (meaning that it loads much faster).\n",
        "Below, we load COMETinho version of the COMET Estimator/Regression Model discussed above (`eamt22-cometinho-da`)."
      ],
      "metadata": {
        "id": "ngafA_KF7eiJ"
      }
    },
    {
      "cell_type": "code",
      "metadata": {
        "id": "T3n3-lVZczLW"
      },
      "source": [
        "# Loading the COMETinho 'eamt22-cometinho-da' model\n",
        "from comet import download_model, load_from_checkpoint\n",
        "model_path_inho = download_model(\"eamt22-cometinho-da\")\n",
        "model_inho = load_from_checkpoint(model_path_inho)"
      ],
      "execution_count": null,
      "outputs": []
    },
    {
      "cell_type": "markdown",
      "source": [
        "### 4.1.1 Short Example Using Single Sentences\n",
        "\n",
        "The cell below calculates a COMETinho Estimator score for one hypothesis. Note that we do not only have to specify the human reference translation, but also the source sentence (we deviate here from our previous example sentences, as COMET is a different beast than the other MT quality metrics we covered in this notebook)."
      ],
      "metadata": {
        "id": "43juFG1f_bjX"
      }
    },
    {
      "cell_type": "code",
      "source": [
        "# Defining source, hypothesis and reference sentences\n",
        "data = [{ \"src\": \"If you do not agree to these Conditions do not use this website.\",\n",
        "          \"mt\": \"Wenn Sie mit diesen Bedingungen nicht einverstanden sind, benutzen Sie diese Website nicht.\",\n",
        "          \"ref\": \"Wenn Sie mit diesen Bedingungen nicht einverstanden sind, sehen Sie von einer Nutzung dieser Website ab.\"      }]\n",
        "\n",
        "# Calculate COMET scores\n",
        "seg_scores, sys_score = model_inho.predict(data, batch_size=8, gpus=0) # This can be changed to 'gpus=1' if GPU is available\n",
        "print(\"\\nSegment scores:\", seg_scores) # for multiple sentences\n",
        "print(\"COMETinho score:\", sys_score)"
      ],
      "metadata": {
        "id": "Yv4Sbn-D71lD",
        "colab": {
          "base_uri": "https://localhost:8080/"
        },
        "outputId": "f2bc0870-15ae-431c-8c9f-1d530275a2cc"
      },
      "execution_count": 3,
      "outputs": [
        {
          "output_type": "stream",
          "name": "stderr",
          "text": [
            "INFO:pytorch_lightning.utilities.rank_zero:GPU available: True, used: False\n",
            "INFO:pytorch_lightning.utilities.rank_zero:TPU available: False, using: 0 TPU cores\n",
            "INFO:pytorch_lightning.utilities.rank_zero:IPU available: False, using: 0 IPUs\n",
            "INFO:pytorch_lightning.utilities.rank_zero:HPU available: False, using: 0 HPUs\n",
            "/usr/local/lib/python3.8/dist-packages/pytorch_lightning/trainer/trainer.py:1814: PossibleUserWarning: GPU available but not used. Set `accelerator` and `devices` using `Trainer(accelerator='gpu', devices=1)`.\n",
            "  rank_zero_warn(\n",
            "Predicting DataLoader 0: 100%|██████████| 1/1 [00:00<00:00,  4.19it/s]"
          ]
        },
        {
          "output_type": "stream",
          "name": "stdout",
          "text": [
            "\n",
            "Segment scores: [0.684618353843689]\n",
            "COMETinho score: 0.684618353843689\n"
          ]
        },
        {
          "output_type": "stream",
          "name": "stderr",
          "text": [
            "\n"
          ]
        }
      ]
    },
    {
      "cell_type": "markdown",
      "source": [
        "As you can see, we obtain a COMETinho score of around 0.68 for our hypothesis/reference/source combination. Above the COMETinho value, you can see a segment score, which indicates the COMETinho score per sentence (= per segment). Since we only compute a score for one hypothesis in this example, the sentence score is identical to the overall COMETinho score. If you calculate a score for multiple sentences (as we do below), you would have multiple segment scores, and one overall COMETinho score. COMET(inho) scores are more difficult to interpret than the previous scores we covered in this notebook, since individual scores will have to be interpreted within the overall range of scores that were obtained using the respective COMET(inho) model in larger MT quality evaluation campaigns. So, scores such as 0.68 do not tell us anything by themselves but have to be interpreted relative to a COMET model’s score range. More information on this can be found in the [official COMET Documentation](https://unbabel.github.io/COMET/html/faqs.html#is-there-a-theoretical-range-of-values-for-the-comet-regressor) (the documentation does not provide any specific information on the COMETinho model we used in our example, so we don’t quite know whether 0.68 is a good or a bad score)."
      ],
      "metadata": {
        "id": "w5Zm9wxvl5br"
      }
    },
    {
      "cell_type": "markdown",
      "source": [
        "### 4.1.2 Another Example Using Multiple Sentences\n",
        "As mentioned above, you could also calculate an average COMETinho score for multiple sentences, with a different value for each segment (sentence). This is illustrated below."
      ],
      "metadata": {
        "id": "pAANQTR-jYOz"
      }
    },
    {
      "cell_type": "code",
      "source": [
        "# Defining source, hypothesis and reference sentences\n",
        "data = [{ \"src\": \"If you do not agree to these Conditions do not use this website.\",\n",
        "          \"mt\": \"Wenn Sie mit diesen Bedingungen nicht einverstanden sind, benutzen Sie diese Website nicht.\",\n",
        "          \"ref\": \"Wenn Sie mit diesen Bedingungen nicht einverstanden sind, sehen Sie von einer Nutzung dieser Website ab.\"      },\n",
        "        {\"src\": \"Please read these Conditions; they are important.\",\n",
        "         \"mt\": \"Bitte lesen Sie diese Bedingungen; sie sind wichtig.\",\n",
        "         \"ref\": \"Bitte lesen Sie diese Bedingungen durch; sie sind wichtig.\"        } ]\n",
        "\n",
        "# Calculate COMET scores\n",
        "seg_scores, sys_score = model_inho.predict(data, batch_size=8, gpus=0) # This can be changed to 'gpus=1' if GPU is available\n",
        "print(\"\\nSegment scores:\", seg_scores) # for multiple sentences\n",
        "print(\"COMETinho score:\", sys_score)"
      ],
      "metadata": {
        "id": "lBbTANs5jT6_",
        "colab": {
          "base_uri": "https://localhost:8080/"
        },
        "outputId": "617b4ce3-50b7-4eaf-9fd3-372458b5f950"
      },
      "execution_count": 4,
      "outputs": [
        {
          "output_type": "stream",
          "name": "stderr",
          "text": [
            "INFO:pytorch_lightning.utilities.rank_zero:GPU available: True, used: False\n",
            "INFO:pytorch_lightning.utilities.rank_zero:TPU available: False, using: 0 TPU cores\n",
            "INFO:pytorch_lightning.utilities.rank_zero:IPU available: False, using: 0 IPUs\n",
            "INFO:pytorch_lightning.utilities.rank_zero:HPU available: False, using: 0 HPUs\n",
            "/usr/local/lib/python3.8/dist-packages/pytorch_lightning/trainer/trainer.py:1814: PossibleUserWarning: GPU available but not used. Set `accelerator` and `devices` using `Trainer(accelerator='gpu', devices=1)`.\n",
            "  rank_zero_warn(\n",
            "Predicting DataLoader 0: 100%|██████████| 1/1 [00:00<00:00,  5.28it/s]"
          ]
        },
        {
          "output_type": "stream",
          "name": "stdout",
          "text": [
            "\n",
            "Segment scores: [0.684618353843689, 0.9946560263633728]\n",
            "COMETinho score: 0.8396371901035309\n"
          ]
        },
        {
          "output_type": "stream",
          "name": "stderr",
          "text": [
            "\n"
          ]
        }
      ]
    },
    {
      "cell_type": "markdown",
      "source": [
        "Here, we score two MT hypotheses and obtain two segment/sentence scores of 0.68 (for the first segment/sentence, as in the example above) and of 0.99 (for the second segment/sentence). The final COMETinho score of 0.83 is simply the average of the two segment/sentence scores. Again, we do not quite know what to make of the final score, but we can see that COMETinho scores the second segment (where MT hypothesis and reference are identical) much higher than the first segment. You could also use this COMETinho model to score segments where source and reference are identical and where only the MT hypothesis differs. This way, you could check which hypothesis COMETinho considers to be the better one."
      ],
      "metadata": {
        "id": "2grcxikfmEUg"
      }
    },
    {
      "cell_type": "markdown",
      "source": [
        "## 4.2 Reference-free COMET Model for MT Quality Estimation\n",
        "\n",
        "Below, we illustrate the Reference-free COMET Model for MT quality estimation. As mentioned above, MT quality estimation differs from MT quality evaluation in that it does not use a human reference translation (gold standard) which would tell our metric upfront how an ideal MT hypothesis should look like. In the cell below, we load the Reference-Free COMET Model discussed in section 4 below. You’ll notice that loading this full COMET model takes considerably longer than loading the lightweight COMETinho model above."
      ],
      "metadata": {
        "id": "A60gYL3e7wgS"
      }
    },
    {
      "cell_type": "code",
      "source": [
        "#!pip install --upgrade torch==1.9.0\n",
        "#!pip install --upgrade torchvision==0.10.0"
      ],
      "metadata": {
        "id": "vPopqOfv-lmK"
      },
      "execution_count": null,
      "outputs": []
    },
    {
      "cell_type": "code",
      "source": [
        "from comet import download_model, load_from_checkpoint\n",
        "model_path = download_model(\"wmt21-comet-qe-mqm\")\n",
        "model = load_from_checkpoint(model_path)"
      ],
      "metadata": {
        "id": "RAnJqvcsRNxl"
      },
      "execution_count": null,
      "outputs": []
    },
    {
      "cell_type": "markdown",
      "source": [
        "In practical translation scenarios, MT quality estimation could be used, for example, to decide which MT output from multiple MT engines to provide to translators in their CAT tool. Let’s assume that you have to translate the source sentence in the cell below in Trados Studio, Phrase, memoQ or any other CAT tool of your choice. Let us further assume that there are two MT engines running in the background, the output of which could be provided in the editor of the CAT tool. In order to avoid cognitive overload, we only want the CAT tool to display the better of the two outputs so that we can focus our cognitive resources on this output. Also in the background, we would first calculate a quality estimation score for the output of engine A. Run the cell below to do so."
      ],
      "metadata": {
        "id": "phL8AMFhPTp9"
      }
    },
    {
      "cell_type": "code",
      "source": [
        "data = [{\n",
        "          \"src\": \"If you do not agree to these Conditions do not use this website.\",\n",
        "          \"mt\": \"Wenn Sie mit diesen Bedingungen nicht einverstanden sind, benutzen Sie diese Website nicht.\"\n",
        "}]\n",
        "model.predict(data, gpus=0)"
      ],
      "metadata": {
        "id": "63B1_7qOR1T8",
        "colab": {
          "base_uri": "https://localhost:8080/"
        },
        "outputId": "e2c4f7a4-9c0b-4023-b3f3-da67fcebe148"
      },
      "execution_count": null,
      "outputs": [
        {
          "output_type": "stream",
          "name": "stderr",
          "text": [
            "INFO:pytorch_lightning.utilities.rank_zero:GPU available: False, used: False\n",
            "INFO:pytorch_lightning.utilities.rank_zero:TPU available: False, using: 0 TPU cores\n",
            "INFO:pytorch_lightning.utilities.rank_zero:IPU available: False, using: 0 IPUs\n",
            "INFO:pytorch_lightning.utilities.rank_zero:HPU available: False, using: 0 HPUs\n",
            "Predicting DataLoader 0: 100%|██████████| 1/1 [00:00<00:00,  1.13it/s]\n"
          ]
        },
        {
          "output_type": "execute_result",
          "data": {
            "text/plain": [
              "([0.1589718610048294], 0.1589718610048294)"
            ]
          },
          "metadata": {},
          "execution_count": 7
        }
      ]
    },
    {
      "cell_type": "markdown",
      "source": [
        "Again, we obtain a segment score and a final score, which are identical because we only score one segment. The score of 0.15 is again difficult to interpret by itself, but here we want to compare it to the quality estimation score for the output of engine B. We calculate this score by running the cell below."
      ],
      "metadata": {
        "id": "BILK25cBVPfr"
      }
    },
    {
      "cell_type": "code",
      "source": [
        "data = [{\n",
        "          \"src\": \"If you do not agree to these Conditions do not use this website.\",\n",
        "          \"mt\": \"Ich bin froh, wenn dieses Notebook endlich zu Ende ist.\"\n",
        "}]\n",
        "model.predict(data, gpus=0)"
      ],
      "metadata": {
        "id": "8k133k7VPXVt",
        "colab": {
          "base_uri": "https://localhost:8080/"
        },
        "outputId": "05e571e9-cd78-4513-f3d9-72144a05f1bf"
      },
      "execution_count": null,
      "outputs": [
        {
          "output_type": "stream",
          "name": "stderr",
          "text": [
            "INFO:pytorch_lightning.utilities.rank_zero:GPU available: False, used: False\n",
            "INFO:pytorch_lightning.utilities.rank_zero:TPU available: False, using: 0 TPU cores\n",
            "INFO:pytorch_lightning.utilities.rank_zero:IPU available: False, using: 0 IPUs\n",
            "INFO:pytorch_lightning.utilities.rank_zero:HPU available: False, using: 0 HPUs\n",
            "Predicting DataLoader 0: 100%|██████████| 1/1 [00:01<00:00,  1.09s/it]\n"
          ]
        },
        {
          "output_type": "execute_result",
          "data": {
            "text/plain": [
              "([0.11149019002914429], 0.11149019002914429)"
            ]
          },
          "metadata": {},
          "execution_count": 8
        }
      ]
    },
    {
      "cell_type": "markdown",
      "source": [
        "As you can see, the quality estimation score for engine B is 0.11. Since the MT output used in this example does not have anything in common with the source sentence, we actually may have expected an even lower score. Be that as it may, if we have two MT engines at our disposal and calculate quality estimation scores in the background as done here, the output of engine A would be provided in our CAT tool for post-editing and the output of engine B would be discarded."
      ],
      "metadata": {
        "id": "tBCXwPtTPlyz"
      }
    },
    {
      "cell_type": "markdown",
      "source": [
        "Congratulations! You have now successfully calculated various automatic MT quality evaluation metrics and should now have a sound understanding of how the individual scores work, how they are interpreted and what their individual advantages and shortcomings are. You are now well prepared to evaluate the quality of MT systems and of machine-translated texts, which is becoming a more and more relevant task in the professional translation industry. If you would like to evaluate the quality of an entire document, you can use our [companion notebook on quality evaluation at document level](https://colab.research.google.com/drive/19a896dbRBVtJmqA6JIFBU7bUiASfAo6V?usp=sharing) to calculate an average metric for an entire document. You could also use your knowledge to perform an automatic quality evaluation of your own NMT model, which you can train in our [NMT Training notebook](https://colab.research.google.com/drive/1f3V7CshfVvrA5S6XtLAvl-beqBPN3qar?usp=sharing)."
      ],
      "metadata": {
        "id": "L5dnSey0jT21"
      }
    }
  ]
}