{
  "nbformat": 4,
  "nbformat_minor": 0,
  "metadata": {
    "kernelspec": {
      "display_name": "Python 3",
      "language": "python",
      "name": "python3"
    },
    "language_info": {
      "codemirror_mode": {
        "name": "ipython",
        "version": 3
      },
      "file_extension": ".py",
      "mimetype": "text/x-python",
      "name": "python",
      "nbconvert_exporter": "python",
      "pygments_lexer": "ipython3",
      "version": "3.8.5"
    },
    "colab": {
      "provenance": [],
      "include_colab_link": true
    }
  },
  "cells": [
    {
      "cell_type": "markdown",
      "metadata": {
        "id": "view-in-github",
        "colab_type": "text"
      },
      "source": [
        "<a href=\"https://colab.research.google.com/github/ITMK/DataLitMT/blob/main/colab_companion_notebook_embedding_based.ipynb\" target=\"_parent\"><img src=\"https://colab.research.google.com/assets/colab-badge.svg\" alt=\"Open In Colab\"/></a>"
      ]
    },
    {
      "cell_type": "markdown",
      "source": [
        "![KeyVisual_DataLitMT - Kopie.jpg](data:image/jpeg;base64,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)\n",
        "\n",
        "# Data Evaluation Companion Notebook for Embedding-Based MT Quality Evaluation Metrics\n"
      ],
      "metadata": {
        "id": "Z4SfOZ5HvixL"
      }
    },
    {
      "cell_type": "markdown",
      "source": [
        "This is a companion notebook for our [Basic](https://colab.research.google.com/drive/1x33BY4qjWUXo3yU7F-raAN9t70TDOm_H?usp=sharing\n",
        " ) and [Advanced](https://colab.research.google.com/drive/1UgsqgN-6yfDESU7Geei4RXzJShEQNViZ?usp=sharing\n",
        "  ) MT Quality Evaluation notebooks, in which we take a closer look at the concept of *word embeddings*. Specifically, we'll take a look at vectorizing words for use in machine learning models (such as neural machine translation systems, large language models such as ChatGPT or the embedding-based MT quality scores covered in our MT Quality Evaluation notebooks). Modern machine learning models in Natural Language Processing (NLP) cannot process natural language directly, but need to convert it into numeric vector representations (embeddings) first. The word embedding model we explore in this notebook takes words from a natural language vocabulary and converts them into such vectors. The word embedding method was developed by [Mikolov et al. 2013: Efficient Estimation of Word Representations in Vector Space](https://arxiv.org/abs/1301.3781)."
      ],
      "metadata": {
        "id": "B5QUjYkLNH_u"
      }
    },
    {
      "cell_type": "markdown",
      "metadata": {
        "id": "E9z0h_YPPF_s"
      },
      "source": [
        "## 0 Housekeeping\n",
        "Run the cell below to perform the necessary housekeeping steps."
      ]
    },
    {
      "cell_type": "code",
      "metadata": {
        "id": "u5Hmh1JHPF_u"
      },
      "source": [
        "# Upgrade to the newest version of pip\n",
        "!pip install --upgrade pip"
      ],
      "execution_count": null,
      "outputs": []
    },
    {
      "cell_type": "code",
      "source": [
        "# Import necessary requirements\n",
        "import numpy as np\n",
        "from scipy import spatial\n",
        "import matplotlib.pyplot as plt\n",
        "from sklearn.manifold import TSNE"
      ],
      "metadata": {
        "id": "XPZBTwkeH7S5"
      },
      "execution_count": null,
      "outputs": []
    },
    {
      "cell_type": "markdown",
      "source": [
        "## Loading the Word Embedding Model"
      ],
      "metadata": {
        "id": "o9hR9thnWXMC"
      }
    },
    {
      "cell_type": "markdown",
      "metadata": {
        "id": "6R5_PUXsPF_w"
      },
      "source": [
        "In this notebook, we'll use a pre-trained [GloVe](https://nlp.stanford.edu/projects/glove/) word embedding model provided by the [Stanford NLP Group](https://nlp.stanford.edu/). The model we'll use is called *glove.6B.100d* – it contains about 6 billion words from Wikipedia and the Gigaword corpus (a corpus containing news articles from Associated Press, the New York Times, etc.) and about 400,000 unique words and corresponding word vectors, each of dimensionality 100. Run the code below to import the GloVe model (this may take a few minutes)."
      ]
    },
    {
      "cell_type": "code",
      "source": [
        "!wget https://huggingface.co/stanfordnlp/glove/resolve/main/glove.6B.zip\n",
        "!unzip glove.6B.zip"
      ],
      "metadata": {
        "id": "xTlS3jYbTvk9"
      },
      "execution_count": null,
      "outputs": []
    },
    {
      "cell_type": "markdown",
      "source": [
        "Next, we will define a function `create_word_embeddings` to compile the embedding. We could then use this function to load any glove model we like."
      ],
      "metadata": {
        "id": "dt_GWostyXRt"
      }
    },
    {
      "cell_type": "code",
      "source": [
        "# load the whole embedding into memory\n",
        "word_embeddings={}       \n",
        "def create_word_embeddings(glove):\n",
        "  with open(glove,'r') as f:\n",
        "    for line in f:\n",
        "      values=line.split()\n",
        "      word=values[0]\n",
        "      vectors=np.asarray(values[1:],'float32')\n",
        "      word_embeddings[word]=vectors\n",
        "  f.close()\n",
        "  print('Loaded %s word vectors.' % len(word_embeddings))"
      ],
      "metadata": {
        "id": "h0QfXYV6vkZl"
      },
      "execution_count": null,
      "outputs": []
    },
    {
      "cell_type": "markdown",
      "source": [
        "In the cell below, we load our glove model `glove.6B.100d.txt` as word embeddings."
      ],
      "metadata": {
        "id": "F2S7jV8cyrTe"
      }
    },
    {
      "cell_type": "code",
      "source": [
        "create_word_embeddings('glove.6B.100d.txt')"
      ],
      "metadata": {
        "colab": {
          "base_uri": "https://localhost:8080/"
        },
        "id": "Rdg7y4rGv5FH",
        "outputId": "592ab0ab-18b6-4ccf-e204-c18a4ca5a82f"
      },
      "execution_count": null,
      "outputs": [
        {
          "output_type": "stream",
          "name": "stdout",
          "text": [
            "Loaded 400001 word vectors.\n"
          ]
        }
      ]
    },
    {
      "cell_type": "markdown",
      "metadata": {
        "id": "UGHCz2C-PF_z"
      },
      "source": [
        "That's it. You're ready to go!"
      ]
    },
    {
      "cell_type": "markdown",
      "metadata": {
        "id": "rPffc40uPF_0"
      },
      "source": [
        "## 1 Exploring the word embedding model\n",
        "We now have a pre-trained word embedding model which we can explore. A trained word embedding model is also called an *embedding matrix*. The size of this embedding matrix is the number of unique words in the model (the vocabulary) times the number of neurons in the hidden layer of the neural network used to train the word embedding model (the *embed size*). The number of hidden units corresponds to the dimensionality of the word vectors in the model, which in our case is 100. So, the size of our embedding matrix is $400.000\\;\\times\\;100 = 40.000.000$. In other words, our pre-trained GloVe word embedding model/embedding matrix has a matrix size of 40 million. To get acquainted with the model, let's first have a look at a list of the 150 most frequent words in the model. This is what the code below generates (don't be surprised, there will be a lot of function words in the upper part of the list)."
      ]
    },
    {
      "cell_type": "code",
      "source": [
        "# Generate a list of the 150 most frequent words in the model\n",
        "list(word_embeddings.keys())[:150]"
      ],
      "metadata": {
        "id": "FGIBw0YyTEoL"
      },
      "execution_count": null,
      "outputs": []
    },
    {
      "cell_type": "markdown",
      "metadata": {
        "id": "S0g2xs35PF_1"
      },
      "source": [
        "## 2 Exploring individual word vectors\n",
        "We can query our word embedding model/embedding matrix like a look-up table, i.e., we can ask the model to look up a certain word and it will return the word vector for this word. This is what the code below does. The output will be an array of 100 floating-point numbers, each representing one vector dimension (remember, the vectors in this model are 100-dimensional). Let's look up the word vector for 'government', which is listed as one of the 150 most frequent words in the model. Feel free to modify this code to explore vectors for other words in our model."
      ]
    },
    {
      "cell_type": "code",
      "source": [
        "# Display individual word vectors\n",
        "word_embeddings['government']"
      ],
      "metadata": {
        "id": "nq12glurTGwI"
      },
      "execution_count": null,
      "outputs": []
    },
    {
      "cell_type": "markdown",
      "metadata": {
        "id": "9gXcIUsQPF_6"
      },
      "source": [
        "Vector representations such as these are what our embedding-based MT quality evaluation metrics actually process. You can think of our word embedding model/embedding matrix as a dictionary. We present the MT quality metric with a word such as 'government'. Since the metric cannot process such natural language words, it will look up the vector of the word 'government' in the embedding matrix and use this vector representation for further processing."
      ]
    },
    {
      "cell_type": "markdown",
      "metadata": {
        "id": "dsUjiPmYPF_7"
      },
      "source": [
        "## 3 Exploring the most similar words\n",
        "We can also explore semantic similarities between words. In the code cell below, we define a function `find_closest_embedding` to find the most similar words to a word of our choosing."
      ]
    },
    {
      "cell_type": "code",
      "source": [
        "# define (euclidean) distance function \n",
        "def find_closest_embeddings(embedding): \n",
        "    return sorted(word_embeddings.keys(), key=lambda word: spatial.distance.euclidean(word_embeddings[word], embedding))"
      ],
      "metadata": {
        "id": "SvGd-9LCTRDw"
      },
      "execution_count": null,
      "outputs": []
    },
    {
      "cell_type": "markdown",
      "source": [
        "The code below gives us the word most similar to the word *father* (according to what our model has learned from the underlying data). You can use any words you like in order to explore semantic similarities in the model, but this  works probably best if we use words from highly structured conceptual systems such as kinship relations. In the code cell below, the [1:2] at the end of the code line indicates that we want to print one (the next) closest word to father."
      ],
      "metadata": {
        "id": "FvPLu0FQzJaN"
      }
    },
    {
      "cell_type": "code",
      "source": [
        "# Query the model for the word most similar to the word 'father'\n",
        "find_closest_embeddings(word_embeddings[\"father\"])[1:2]"
      ],
      "metadata": {
        "colab": {
          "base_uri": "https://localhost:8080/"
        },
        "id": "B7E011CrTIZb",
        "outputId": "577a51fd-d941-4c01-998d-72f73ae9f20d"
      },
      "execution_count": null,
      "outputs": [
        {
          "output_type": "execute_result",
          "data": {
            "text/plain": [
              "['brother']"
            ]
          },
          "metadata": {},
          "execution_count": 39
        }
      ]
    },
    {
      "cell_type": "markdown",
      "source": [
        "Run the code cell below to print the 10 most similar words to the word *father* by now calling words 1 through 11 ([1:11])."
      ],
      "metadata": {
        "id": "3uAian4Dzyuj"
      }
    },
    {
      "cell_type": "code",
      "source": [
        "# Query the model for the 10 most similar words to the word 'father'\n",
        "find_closest_embeddings(word_embeddings[\"father\"])[1:11]"
      ],
      "metadata": {
        "id": "eaKG-vTlnwxP"
      },
      "execution_count": null,
      "outputs": []
    },
    {
      "cell_type": "markdown",
      "metadata": {
        "id": "Y0t9zNN3PF_9"
      },
      "source": [
        "As you can see, our word embedding model may display an ‘understanding’ of certain words which can be very close to our own understanding of these words. You may wonder how these word similarities are actually calculated and interpreted. Remember that the individual words in our model are represented by high-dimensional vectors. In order to establish the similarity between two words, we must therefore establish the distance between the two vectors representing these words. In this notebook, we do this by calculating the Euclidean distance between the vectors (as you can see from the code snippet `spatial.distance.euclidean` in section 5)."
      ]
    },
    {
      "cell_type": "markdown",
      "metadata": {
        "id": "COY3Fl9EPF_-"
      },
      "source": [
        "## 4 Exploring the least similar words\n",
        "Theoretically, we can also explore the dissimilarities between words (although, as you will see, the results may not make that much sense to us). The code below gives us the 10 words which, according to our model, are the least similar to the word *father*."
      ]
    },
    {
      "cell_type": "code",
      "source": [
        "# Query the words to find the least similar word to 'father'\n",
        "find_closest_embeddings(-word_embeddings['father'])[1:11]"
      ],
      "metadata": {
        "colab": {
          "base_uri": "https://localhost:8080/"
        },
        "id": "0olN6WnsUwz9",
        "outputId": "2ad1735a-66f1-4478-dc01-08ed36d56737"
      },
      "execution_count": null,
      "outputs": [
        {
          "output_type": "execute_result",
          "data": {
            "text/plain": [
              "['nizhal']"
            ]
          },
          "metadata": {},
          "execution_count": 119
        }
      ]
    },
    {
      "cell_type": "markdown",
      "metadata": {
        "id": "EMHsxnGnPGAA"
      },
      "source": [
        "## 5 Calculating the similarity between two specific words\n",
        "We can also calculate similarity (or dissimilarity) scores for two specific words. For example, the code below will give us a numeric similarity value for the two words *father* and *son* (again calculated using the spatial Euclidean distance). Another possibility to measure the distance between the two vectors is to calculate the cosine similarity between them (this is what the BERTScore covered in our main notebooks on automatic MT quality evaluation does). We will not discuss the difference between Euclidean distance and cosine similarity in this notebook. If you want to know more about this topic (and are not afraid of some math), check out [this article](https://cmry.github.io/notes/euclidean-v-cosine)."
      ]
    },
    {
      "cell_type": "code",
      "source": [
        "# Calculate semantic similarity between words\n",
        "spatial.distance.euclidean(word_embeddings[\"father\"], word_embeddings[\"son\"])"
      ],
      "metadata": {
        "colab": {
          "base_uri": "https://localhost:8080/"
        },
        "id": "dRfSqAibTU_F",
        "outputId": "758b58d0-0ca4-4a21-c9f1-21b77c0c480f"
      },
      "execution_count": null,
      "outputs": [
        {
          "output_type": "execute_result",
          "data": {
            "text/plain": [
              "2.341798782348633"
            ]
          },
          "metadata": {},
          "execution_count": 126
        }
      ]
    },
    {
      "cell_type": "markdown",
      "source": [
        "Now, we calculate the similarity between the words *father* and *government*."
      ],
      "metadata": {
        "id": "OgC428dvuuRl"
      }
    },
    {
      "cell_type": "code",
      "source": [
        "# Calculate semantic similarity between words\n",
        "spatial.distance.euclidean(word_embeddings[\"father\"], word_embeddings[\"government\"])"
      ],
      "metadata": {
        "id": "BsQxvOs2uupl"
      },
      "execution_count": null,
      "outputs": []
    },
    {
      "cell_type": "markdown",
      "source": [
        "\n",
        "As you can see, we obtain a higher Euclidean distance value for the similarity between the words *father* and *government*. The higher the Euclidean distance between two vectors is, the less similar are the words represented by these vectors. In other words, our word embedding model knows that the two words *father* and *son* are more similar to each other than the words *father* and *government*."
      ],
      "metadata": {
        "id": "b2Ea6PGoup-C"
      }
    },
    {
      "cell_type": "markdown",
      "source": [
        "# 6 Visualising the (dis)similarity between multiple words\n",
        "\n",
        "We can also visualise the similarity or dissimilarity between two or more word vectors. For the sake of simplicity, let us assume that each dimension of a word vector corresponds to a certain semantic feature (such as *human*, *kinship*, *substance* or *action*). Mind that this is actually an oversimplification, but we accept this for didactic purposes here. So, if two words share a certain semantic feature, we'd expect them to have similar values for the dimension representing this feature.  \n",
        "If you run the code below, you will see a visual representation of the 100 dimensions of the similar words *father* and *son* together with the representation of the dissimilar word *government*. Create the representations and inspect the individual vector dimensions."
      ],
      "metadata": {
        "id": "qL-QZaoqu_Z_"
      }
    },
    {
      "cell_type": "code",
      "source": [
        "# Import the libraries required to visualise the word embedding vectors\n",
        "import seaborn as sns\n",
        "\n",
        "# Create the visual representations\n",
        "plt.figure(figsize=(30,3))\n",
        "sns.heatmap([word_embeddings[\"father\"], word_embeddings[\"son\"], word_embeddings[\"government\"]], xticklabels=True, yticklabels=True, cbar=True,\n",
        "            vmin=-1, vmax=1, linewidths=0.7)\n",
        "plt.show()"
      ],
      "metadata": {
        "colab": {
          "base_uri": "https://localhost:8080/",
          "height": 215
        },
        "id": "4peXzEF_Tx27",
        "outputId": "3d5c452a-b142-43cd-e357-542a0ae800f3"
      },
      "execution_count": null,
      "outputs": [
        {
          "output_type": "display_data",
          "data": {
            "text/plain": [
              "<Figure size 2160x216 with 2 Axes>"
            ],
            "image/png": "[encoded data removed]"
          },
          "metadata": {
            "needs_background": "light"
          }
        }
      ]
    },
    {
      "cell_type": "markdown",
      "metadata": {
        "id": "qjeIiYH-_IIj"
      },
      "source": [
        "The first two rows (labelled *0* and *1*) are the visual representations of the 100-dimensional vectors for *father* and *son* and the third row (labelled *2*) is the representation of *government*. The values of the individual dimensions are scaled to a range between −1 and 1, corresponding to the colours you see on the right. Equal colours mean equal values for the respective dimension. If you inspect the representations carefully, you will see that *father* and *son* share many dimensions with similar colour coding whereas this is not the case for the word *government*. So, the vectors of similar words will share a lot of dimensions with similar values whereas the dimensions of dissimilar words will also have dissimilar values. Note that, although we can see that a certain dimension has similar values for *father* and *son* and a dissimilar value for *government*, we cannot really tell which semantic feature is represented by this dimension. This remains the mystery of our word embedding model."
      ]
    },
    {
      "cell_type": "markdown",
      "metadata": {
        "id": "jzv6qhGGPGAB"
      },
      "source": [
        "## 7 Identifying semantic outliers\n",
        "We can also present our model with a list of words and, by calculating the spatial Euclidean distance between the words, we can identify the word that doesn't fit in this list from a semantic point of view (the semantic outlier). In the code below, we check which word from the list of *father*, *mother*, *uncle* and *car* is the odd one out."
      ]
    },
    {
      "cell_type": "code",
      "source": [
        "# Identify semantic outliers\n",
        "keys = ['father', 'mother', 'uncle', 'car']\n",
        "\n",
        "# Calculate the spatial euclidean distance between each of the above four words\n",
        "distances = {}\n",
        "distances[keys[0], keys[1]] = spatial.distance.euclidean(word_embeddings[keys[0]], word_embeddings[keys[1]])\n",
        "distances[keys[0], keys[2]] = spatial.distance.euclidean(word_embeddings[keys[0]], word_embeddings[keys[2]])\n",
        "distances[keys[0], keys[3]] = spatial.distance.euclidean(word_embeddings[keys[0]], word_embeddings[keys[3]])\n",
        "distances[keys[1], keys[2]] = spatial.distance.euclidean(word_embeddings[keys[1]], word_embeddings[keys[2]])\n",
        "distances[keys[1], keys[3]] = spatial.distance.euclidean(word_embeddings[keys[1]], word_embeddings[keys[3]])\n",
        "distances[keys[2], keys[3]] = spatial.distance.euclidean(word_embeddings[keys[2]], word_embeddings[keys[3]])\n",
        "\n",
        "print(distances)"
      ],
      "metadata": {
        "id": "z7-7TdqZ2EBQ"
      },
      "execution_count": null,
      "outputs": []
    },
    {
      "cell_type": "markdown",
      "source": [
        "If we check the output in the last line above, we can see that the furthest distance is always related to *car* (the Euclidean distance is 6.89 between *car* and *mother*; 6.56 between *car* and *father*; and 6.60 between *car* and *uncle*). These values are greater than the other distances. This shows us computationally that from the list of *father*, *mother*, *uncle* and *car*, the outlier is *car*."
      ],
      "metadata": {
        "id": "YWGba_BG7B50"
      }
    },
    {
      "cell_type": "markdown",
      "metadata": {
        "id": "2EKxb21iPGAM"
      },
      "source": [
        "## 8 Identifying analogies\n",
        "We can also use our model to identify analogies such as *king* is to *man* as *woman* is to *?*. In our example below, the model identifies the correct analogy, but it breaks down when we try to identify other analogies. Just modify the code with an example of your own to see what the model predicts in this case."
      ]
    },
    {
      "cell_type": "code",
      "source": [
        "# Identify the top analogy candidate for 'King' is to 'man' as 'woman' is to ?\n",
        "print(find_closest_embeddings(\n",
        "    word_embeddings[\"king\"] - word_embeddings[\"man\"] + word_embeddings[\"woman\"])[1:2])"
      ],
      "metadata": {
        "colab": {
          "base_uri": "https://localhost:8080/"
        },
        "id": "pjp6TJDYTOn_",
        "outputId": "e43b5bc2-55b0-4a94-ba35-d7bd42b1ed3b"
      },
      "execution_count": null,
      "outputs": [
        {
          "output_type": "stream",
          "name": "stdout",
          "text": [
            "['queen']\n"
          ]
        }
      ]
    },
    {
      "cell_type": "markdown",
      "source": [
        "While we are at it, let’s have a brief excursus and investigate whether there is any gender bias discernible in our word embedding model. In the example below, we subtract the meaning *male* from the word *doctor* and add the meaning *female* instead."
      ],
      "metadata": {
        "id": "GYN_P7m3UMpZ"
      }
    },
    {
      "cell_type": "code",
      "source": [
        "print(find_closest_embeddings(\n",
        "    word_embeddings[\"doctor\"] - word_embeddings[\"he\"] + word_embeddings[\"she\"])[1:2])"
      ],
      "metadata": {
        "colab": {
          "base_uri": "https://localhost:8080/"
        },
        "id": "GYM0B6-BUTPK",
        "outputId": "978083dd-940a-439d-fd31-d60661b67353"
      },
      "execution_count": null,
      "outputs": [
        {
          "output_type": "stream",
          "name": "stdout",
          "text": [
            "['nurse']\n"
          ]
        }
      ]
    },
    {
      "cell_type": "markdown",
      "source": [
        "While we’d expect the result to be a female doctor, the actual output of our model could be interpreted as an instance of gender bias (male medical professionals are stereotypically doctors while female medical professionals are stereotypically nurses). Other closely related words to *doctor* such as *physician* or *surgeon*, are not even given as the 10 closest word embeddings.\n",
        "\n",
        "In the example below, we try to reverse this by assigning *doctor* is to *she* as *he* is to *?*."
      ],
      "metadata": {
        "id": "VMuVd34ovq7y"
      }
    },
    {
      "cell_type": "code",
      "source": [
        "print(find_closest_embeddings(\n",
        "    word_embeddings[\"doctor\"] - word_embeddings[\"she\"] + word_embeddings[\"he\"])[1:2])"
      ],
      "metadata": {
        "colab": {
          "base_uri": "https://localhost:8080/"
        },
        "id": "bFBAbIfjHDdK",
        "outputId": "1b447a85-8c1b-46af-9093-92ac70600eeb"
      },
      "execution_count": null,
      "outputs": [
        {
          "output_type": "stream",
          "name": "stdout",
          "text": [
            "['physician']\n"
          ]
        }
      ]
    },
    {
      "cell_type": "markdown",
      "source": [
        "From our result above, we could expect to get *nurse*. Here, however, a *nurse* is not even in the top 50 closest word embeddings to *he*. In contrast to the example above, below we get *physician* to be closest to *male doctor*. We could have expected the same result above (for a female physician) but *physician* is only the 17th closest word embedding (with unrelated words such as *mother* or *girlfriend* being considered closer) to *she*, where *doctor* is to *he*."
      ],
      "metadata": {
        "id": "-8A3XUBKAc9a"
      }
    },
    {
      "cell_type": "markdown",
      "metadata": {
        "id": "tk69BcgnPGAN"
      },
      "source": [
        "## 9 Visualising the spatial arrangement word embeddings using t-SNE\n",
        "For us humans, it is extremely difficult to wrap our head around the concept of *100-dimensional vectors* (although the visualization under *6* may have helped a little). In order to visualize the spatial arrangement of such vectors in vector space, we need a method which reduces the dimensionalities of these vectors to 2 or 3 while still preserving most of the semantic relations captured in the higher-dimensional vectors. A common method for dimensionality reduction is [t-SNE (t-distributed Stochastic Neighbor Embedding)](https://lvdmaaten.github.io/tsne/), which we will use here to display two-dimensional visualizations of our word embeddings. First, we need to import some additional libraries."
      ]
    },
    {
      "cell_type": "code",
      "metadata": {
        "id": "H4tNMoYLPGAO"
      },
      "source": [
        "# Import the libraries required to perform t-SNE dimensionality reductions and visualizations\n",
        "import numpy as np\n",
        "import matplotlib.pyplot as plt\n",
        " \n",
        "from sklearn.manifold import TSNE"
      ],
      "execution_count": null,
      "outputs": []
    },
    {
      "cell_type": "markdown",
      "metadata": {
        "id": "RHmBiM91PGAO"
      },
      "source": [
        "We also need to define a function which takes our pre-trained word embedding model and a specific word as arguments and then applies the t-SNE method to give us a visual representation of our word embeddings. The code used in this function was adapted from [this tutorial](https://medium.com/@aneesha/using-tsne-to-plot-a-subset-of-similar-words-from-word2vec-bb8eeaea6229)."
      ]
    },
    {
      "cell_type": "code",
      "source": [
        "def display_tsne_scatterplot(model, word):\n",
        "\n",
        "    word_labels = [word]\n",
        "    words = find_closest_embeddings(model[word])[1:11]\n",
        "  \n",
        "    arr = np.array([model[w] for w in words])\n",
        "    for wrd_score in words:\n",
        "        wrd_vector = model[wrd_score]\n",
        "        word_labels.append(wrd_score)\n",
        "        arr = np.append(arr, np.array([wrd_vector]), axis=0)\n",
        "\n",
        "    # Calculate the t-SNE coordinates for 2 dimensions\n",
        "    tsne = TSNE(n_components=2, random_state=0)\n",
        "    np.set_printoptions(suppress=True)\n",
        "    Y = tsne.fit_transform(arr)\n",
        "\n",
        "    x_coords = Y[:, 0]\n",
        "    y_coords = Y[:, 1]\n",
        "    \n",
        "    # Define the visual representation of our scatter plot\n",
        "    plt.scatter(x_coords, y_coords)\n",
        "\n",
        "    for label, x, y in zip(word_labels, x_coords, y_coords):\n",
        "        plt.annotate(label, xy=(x, y), xytext=(0, 0), textcoords='offset points')\n",
        "    plt.xlim(x_coords.min()+0.00005, x_coords.max()+0.00005)\n",
        "    plt.ylim(y_coords.min()+0.00005, y_coords.max()+0.00005)\n",
        "    plt.show()"
      ],
      "metadata": {
        "id": "ErpiDppRIiRI"
      },
      "execution_count": null,
      "outputs": []
    },
    {
      "cell_type": "markdown",
      "source": [
        "Now, we are ready to visualize semantic relations between the words in our model. The following code visualizes the 10 words with exhibited the closest proximity to the word *father* in 100-dimensional vector space. Note that these are the same words that were listed when we queried our model for the 10 words most similar to *father* above."
      ],
      "metadata": {
        "id": "1Cx4iLroKuNA"
      }
    },
    {
      "cell_type": "code",
      "source": [
        "display_tsne_scatterplot(word_embeddings, 'father')"
      ],
      "metadata": {
        "colab": {
          "base_uri": "https://localhost:8080/",
          "height": 342
        },
        "id": "Br0zLadkI3hs",
        "outputId": "fdff6342-b156-478e-f1fa-9e1b05651f2e"
      },
      "execution_count": null,
      "outputs": [
        {
          "output_type": "stream",
          "name": "stderr",
          "text": [
            "/usr/local/lib/python3.8/dist-packages/sklearn/manifold/_t_sne.py:780: FutureWarning: The default initialization in TSNE will change from 'random' to 'pca' in 1.2.\n",
            "  warnings.warn(\n",
            "/usr/local/lib/python3.8/dist-packages/sklearn/manifold/_t_sne.py:790: FutureWarning: The default learning rate in TSNE will change from 200.0 to 'auto' in 1.2.\n",
            "  warnings.warn(\n"
          ]
        },
        {
          "output_type": "display_data",
          "data": {
            "text/plain": [
              "<Figure size 432x288 with 1 Axes>"
            ],
            "image/png": "[encoded data removed]"
          },
          "metadata": {
            "needs_background": "light"
          }
        }
      ]
    },
    {
      "cell_type": "markdown",
      "metadata": {
        "id": "NoIGr5MhPGAR"
      },
      "source": [
        "## 10 Coda: Standard word embeddings vs. contextual word embeddings"
      ]
    },
    {
      "cell_type": "markdown",
      "metadata": {
        "id": "Ksc_GbDTPGAR"
      },
      "source": [
        "The word embeddings explored in this notebook are what you could call *normal* or *standard* word embeddings. These standard word embeddings are context-independent, meaning that each word is represented by just one vector, regardless of how many senses this word actually has and at which sentence positions it actually occurs. For example, in a sentence such as 'He left his **cell** phone in the prison **cell**', the word *cell* has two clearly distinct meanings, but standard word embedding approaches would collapse these different meanings into one single word vector. Contextual word embeddings are an upgraded version of these standard word embeddings, and these upgraded embeddings can be calculated by large neural language models such as Google's [BERT](https://www.aclweb.org/anthology/N19-1423/). BERT generates different embeddings for a word depending on its context, i.e., depending on the sense in which it is used and where in the sentence it occurs. In the example sentence above, BERT would create two different embeddings for the two senses of *cell*. Therefore, contextual word embeddings are more powerful representations than standard word embeddings but at the same time, creating such contextual embeddings is computationally more expensive. (In our main notebooks on MT quality evaluation, BERTScore uses the contextual word embeddings from BERT; however, as you’ll notice in these notebooks, BERTScore also takes quite some time to run.) More information on the difference between standard and contextual word embeddings can be found [here](https://www.quora.com/What-are-the-main-differences-between-the-word-embeddings-of-ELMo-BERT-Word2vec-and-GloVe)."
      ]
    },
    {
      "cell_type": "markdown",
      "metadata": {
        "id": "eTWQHY6gPGAR"
      },
      "source": [
        "## 11 Tips for further reading\n",
        "This was a very brief introduction to the concept of word embeddings. Word embeddings are very powerful tools in the context of natural language processing, and we have merely scratched the surface here. If you would like to dive deeper into the topic, here are some reading tips:  \n",
        "- [Alammar, Jay (2019): The Illustrated Word2vec](http://jalammar.github.io/illustrated-word2vec/)\n",
        "- [Collis, Jaron (2017): Glossary of Deep Learning: Word Embeddings](https://medium.com/deeper-learning/glossary-of-deep-learning-word-embedding-f90c3cec34ca)  \n",
        "- [McCormick, Chris (2016): Word2Vec Tutorial - The Skip-Gram Model](http://mccormickml.com/2016/04/19/word2vec-tutorial-the-skip-gram-model/)  \n",
        "- [McCormick, Chris (2017): Word2Vec Tutorial Part 2 - Negative Sampling](http://mccormickml.com/2017/01/11/word2vec-tutorial-part-2-negative-sampling/)"
      ]
    }
  ]
}
