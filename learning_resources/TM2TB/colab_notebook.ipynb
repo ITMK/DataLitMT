{
  "nbformat": 4,
  "nbformat_minor": 0,
  "metadata": {
    "colab": {
      "provenance": [],
      "machine_shape": "hm",
      "include_colab_link": true
    },
    "kernelspec": {
      "name": "python3",
      "display_name": "Python 3"
    },
    "language_info": {
      "name": "python"
    },
    "accelerator": "GPU",
    "gpuClass": "standard"
  },
  "cells": [
    {
      "cell_type": "markdown",
      "metadata": {
        "id": "view-in-github",
        "colab_type": "text"
      },
      "source": [
        "<a href=\"https://colab.research.google.com/github/ITMK/DataLitMT/blob/main/colab_notebook.ipynb\" target=\"_parent\"><img src=\"https://colab.research.google.com/assets/colab-badge.svg\" alt=\"Open In Colab\"/></a>"
      ]
    },
    {
      "cell_type": "markdown",
      "source": [
        "![KeyVisual_DataLitMT - Kopie.jpg](data:image/jpeg;base64,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)\n",
        "\n",
        "# Data Preparation: Terminology Extraction & Cleaning Training Data"
      ],
      "metadata": {
        "id": "B8FRlQ7VKi8z"
      }
    },
    {
      "cell_type": "markdown",
      "source": [
        "## 1 Theory"
      ],
      "metadata": {
        "id": "gYhX6d7aDtYv"
      }
    },
    {
      "cell_type": "markdown",
      "source": [
        "### 1.1 Introduction"
      ],
      "metadata": {
        "id": "unxA4qiBDpUR"
      }
    },
    {
      "cell_type": "markdown",
      "source": [
        "The use of consistent terminology is especially important in the field of translation but not limited to it. Tom Winter (2019:97) describes terminology as the heart of the corporate language of a company that can be used as a knowledge base, to enhance internal and external communication and increase the quality of technical documentation and translations. Some of the benefits for companies include the reduction of time and effort invested in text production and review, the improved quality control of products and processes, and the establishment of corporate branding and credibility ([cf. Bowker 2019:265](http://dx.doi.org/10.5040/9781350024960.0018)). It should come as no surprise that companies such as *Deutsche Bahn AG* or *Microsoft* are investing into collecting and preparing their own company-related terminology. \n",
        "\n",
        "If integrated successfully, terminology can also be used to customise a generic NMT engine, which will in turn produce higher-quality domain-specific output. As Tom Winter ([2019:98f.](https://doi.org/10.1007/978-3-662-58949-6)) points out, high-quality domain-specific NMT output can also unlock great potential in the training of AI engines for search engine optimization (SEO), chatbots or speech recognition. Search engines, for instance, deliver more relevant results if the underlying AI can recognise lexical ambiguity. However, in order for us to leverage language data in modern technologies, it needs to be relevant to the specific domain, consistent, machine-readable and made available to the respective users and systems ([cf. Heinisch 2019:120f.](https://doi.org/10.1007/978-3-662-58949-6)). So before training a generic NMT engine, preliminary terminological work and data preparation may be necessary if the training data does not meet the desired quality criteria."
      ],
      "metadata": {
        "id": "bGVCfPVn_W0E"
      }
    },
    {
      "cell_type": "markdown",
      "source": [
        "### 1.2 Terminology in Neural Machine Translation"
      ],
      "metadata": {
        "id": "fnjof3-D_dMT"
      }
    },
    {
      "cell_type": "markdown",
      "source": [
        "For translations, terminology is especially important because it contributes greatly to the meaning of a text ([cf. Winter/Zielinsky 2020:212]( https://d-nb.info/1212731727)). However, generic NMT systems fail to adequately translate terminology because they were trained with generic data and cannot apply specialised knowledge to their output (cf. Winter/Zielinski 2020:211). The post-editing effort for translations generated by generic NMT engines is therefore very high in terms of terminology. In order to obtain a more accurate translation and to reduce the effort for post-editing, NMT engines can be customised by training them with domain-specific data (ibid.). \n",
        "There are different ways of customising an NMT engine: training, domain adaptation, prioritizing, or the incorporation of terminology at the decoding stage (cf. Winter/Zielinski 2020:221f.). In order to train a new translation engine, extensive training material of 1 million bilingual translation units would be required, making this approach very costly and time-consuming. For domain adaptation, an existing engine is retrained with a smaller set of training data from 5,000-15,000 segments (cf. Winter/Zielinski 2020:222). Certain segments can be weighted, meaning they will be prioritised during training or domain adaptation. Lastly, terminology can be incorporated at the decoding stage, which is when the translation output is generated, by using a glossary or dictionary with the desired terminology. However, this still requires some post-editing effort since the terminology is often inserted by a simple search and replace function and thus not inflected (cf. Winter/Zielinski 2020:222).\n",
        "In order for any of these approaches to be successful, the training data has to be consistent. For domain adaptation, for example, it is important that the target segments use consistent terminology. Otherwise, the quality of the MT output will suffer (cf. Winter/ Zielinski 2020:225).\n"
      ],
      "metadata": {
        "id": "UGOQ6sbL_mih"
      }
    },
    {
      "cell_type": "markdown",
      "source": [
        "### 1.3 Data Preparation and Terminology Extraction"
      ],
      "metadata": {
        "id": "pkcivGY-_pnm"
      }
    },
    {
      "cell_type": "markdown",
      "source": [
        "The project steps for domain adaption include project planning and preparation, the evaluation of suitable MT systems, data preparation and integration, and finally training, training evaluation and retraining (cf. Winter/Zielinski 2020:227). Data preparation is especially important to ensure that consistent terminology is used in the training data. This might require some terminology work prior to the training phase. At the beginning of terminology work is terminology collection and extraction, where all terms used in monolingual or bilingual texts are identified, organised and prepared for further use.\n",
        "\n",
        "One means to identifying and collecting terminology from monolingual or bilingual language corpora is automatic term extraction using a designated tool. While the preliminary identification of terms is automated, language professionals are still required to sort through this data, validate it and organise it (cf. Bowker 2019:268). \n",
        "Depending on the starting point and goal of terminology work, there are different extraction methods ([cf. Ferrari et al. 2020:M4-6](http://dttev.org/aktuelles-terminologie-erleben/2020/228-dtt-handbuch-best-practices-2-0-jetzt-auch-in-englisch.html)).\n",
        "Concordance programs generate a list of all terms used in a text and show their frequency of occurrence (cf. Ferrari et al. 2020:M4-7). They are language independent and very practical for monolingual term extraction. Stop word lists can be incorporated to ignore certain words and reduce the noise (ibid.). The list has to be cleaned manually, which can be time-consuming depending on the size of the text corpus.\n",
        "Statistical extraction is based on the assumption that the more frequently a term occurs in a text, the more relevant it is (cf. Ferrari et al. 2020:M4-9). A statistical extraction tool generates a list of the most frequent term candidates and shows their frequency of occurrence. It is language independent can be used for monolingual or multilingual source texts. A stop word list can be imported to help reduce the noise (ibid.).\n",
        "The linguistic extraction compiles the most frequent term candidates and shows their frequency of occurrence. Other than the other methods, it is language-specific and can generate language patterns such as part of speech, word length, single or multiword terms or proper names (cf. Ferrari et al. 2020:M4-12). It can identify variants and consolidate them in their canonical forms, which significantly reduces the manual effort that is required for the other methods (cf. Ferrari et al. 2020:M9-14).\n",
        "\n",
        "In practice, it is not unusual to use a combination of two or more extraction methods to improve the quality of the results.\n"
      ],
      "metadata": {
        "id": "aS6Fjo-f_u65"
      }
    },
    {
      "cell_type": "markdown",
      "source": [
        "### 1.4 Scenario"
      ],
      "metadata": {
        "id": "EamYz3cXRmBR"
      }
    },
    {
      "cell_type": "markdown",
      "source": [
        "\n",
        "In this notebook, we will guide you through a fictional workflow as you might encounter it in your professional career. \n",
        "\n",
        "Imagine you want to implement domain adaptation to a generic NMT to improve the quality of your translations. You have compiled a TM with domain-specific bilingual language data but before starting the training, you need to make sure that it is consistent. Since you do not have a reliable term base yet, you want to extract the relevant terminology first to sort through it. After you have compiled a list of term candidates and chosen the preferred terms, you perform a quality check of the TM at hand, sorting through any terminological inconsistencies that might impair the quality of your training data."
      ],
      "metadata": {
        "id": "8VliU6fmRrbb"
      }
    },
    {
      "cell_type": "markdown",
      "source": [
        "## 2 Practice"
      ],
      "metadata": {
        "id": "Ros99bYpETlK"
      }
    },
    {
      "cell_type": "markdown",
      "source": [
        "### 2.1 Requirements"
      ],
      "metadata": {
        "id": "eiYEAdqCR2aN"
      }
    },
    {
      "cell_type": "markdown",
      "source": [
        "Before you start, please watch this video where we’ll brush on some basic concepts of terminology work and guide you step-by-step through the workflow presented in this notebook:\n",
        "\n",
        "*Link to video*\n",
        "\n",
        "Please also install the software linked below if you want to follow along. They’re all free open-source tools:\n",
        "\n",
        "[QA Distiller](http://www.qa-distiller.com/en/download)\n",
        "\n",
        "[Glossary Converter](https://appstore.rws.com/plugin/194/)\n"
      ],
      "metadata": {
        "id": "hMHOqddwR6EH"
      }
    },
    {
      "cell_type": "markdown",
      "source": [
        "### 2.2 Housekeeping"
      ],
      "metadata": {
        "id": "FpkS4GMwTr-J"
      }
    },
    {
      "cell_type": "markdown",
      "source": [
        "Before you begin, you need to make sure that you meet the requirements to use this notebook.\n",
        "\n",
        "First, run the code below to clone the DataLitMT GitHub Repository and to access the Translation Memory (TM)."
      ],
      "metadata": {
        "id": "RWDZ-BjyS_sZ"
      }
    },
    {
      "cell_type": "code",
      "source": [
        "%%capture\n",
        "!git clone https://github.com/ITMK/DataLitMT"
      ],
      "metadata": {
        "id": "cYlgjKRHS_TE"
      },
      "execution_count": null,
      "outputs": []
    },
    {
      "cell_type": "markdown",
      "source": [
        "Next, change the directory to the *TM2TB* folder and check its content. You can see that it contains the TMX file you want to work with in this notebook."
      ],
      "metadata": {
        "id": "Ky_d7rpCsVLF"
      }
    },
    {
      "cell_type": "code",
      "source": [
        "%cd /content/DataLitMT/learning_resources/TM2TB\n",
        "!ls"
      ],
      "metadata": {
        "id": "YdZALjZHKrMU",
        "colab": {
          "base_uri": "https://localhost:8080/"
        },
        "outputId": "041ebd04-b163-4441-8eb1-4caf6029dbf1"
      },
      "execution_count": null,
      "outputs": [
        {
          "output_type": "stream",
          "name": "stdout",
          "text": [
            "/content/DataLitMT/learning_resources/TM2TB\n",
            "intro  TM_en-us_de-de.tmx\n"
          ]
        }
      ]
    },
    {
      "cell_type": "markdown",
      "source": [
        "You also need to access another GitHub respository: [TM2TB](https://github.com/luismond/tm2tb).\n",
        "\n",
        "TM2TB is an extraction module that focuses on bilingual data. It uses [spaCy](https://spacy.io/), a python-based open-source software library for natural language procession (NLP), to extract terms from sentences, pairs of sentences and bilingual documents."
      ],
      "metadata": {
        "id": "yIrHVyOmTZWr"
      }
    },
    {
      "cell_type": "markdown",
      "source": [
        "First, run the code below to clone the TM2TB GitHub Repository into the *TM2TB* folder that we navigated to earlier."
      ],
      "metadata": {
        "id": "Xq0LF0M6DGcE"
      }
    },
    {
      "cell_type": "code",
      "source": [
        "%%capture\n",
        "!git clone https://github.com/luismond/tm2tb"
      ],
      "metadata": {
        "id": "qJDgS74cgaos"
      },
      "execution_count": null,
      "outputs": []
    },
    {
      "cell_type": "markdown",
      "source": [
        "Next, navigate to the *tm2tb* folder. It contains all the files we require from the TM2TB GitHub Repository."
      ],
      "metadata": {
        "id": "HYZPn7v8DYRl"
      }
    },
    {
      "cell_type": "code",
      "source": [
        "%%capture\n",
        "%cd tm2tb"
      ],
      "metadata": {
        "id": "5gJxyDDfjqyj"
      },
      "execution_count": null,
      "outputs": []
    },
    {
      "cell_type": "markdown",
      "source": [
        "Run the next code to install the requirements."
      ],
      "metadata": {
        "id": "zSv7zPHNIttt"
      }
    },
    {
      "cell_type": "code",
      "source": [
        "%%capture\n",
        "!pip install -r requirements_colab.txt"
      ],
      "metadata": {
        "id": "AcSJPkligseL"
      },
      "execution_count": null,
      "outputs": []
    },
    {
      "cell_type": "markdown",
      "source": [
        "There is an update available for one of the modules we just installed. Run the next code to install the update."
      ],
      "metadata": {
        "id": "ySQaqmCN9c9H"
      }
    },
    {
      "cell_type": "code",
      "source": [
        "%%capture\n",
        "!pip install -U sentence-transformers"
      ],
      "metadata": {
        "id": "FUzJ36UDj4X7"
      },
      "execution_count": null,
      "outputs": []
    },
    {
      "cell_type": "markdown",
      "source": [
        "That's it. You're ready to go!"
      ],
      "metadata": {
        "id": "Sjig0y3kXTfH"
      }
    },
    {
      "cell_type": "markdown",
      "source": [
        "### 2.3 Term Extraction"
      ],
      "metadata": {
        "id": "ZNcb1T6HXXb5"
      }
    },
    {
      "cell_type": "markdown",
      "source": [
        "In order to gain access to the functionality of the TM2TB module, you need to import it first.\n",
        "Go ahead and run the code below."
      ],
      "metadata": {
        "id": "7yU9bCT-jtet"
      }
    },
    {
      "cell_type": "code",
      "source": [
        "%%capture\n",
        "import tm2tb"
      ],
      "metadata": {
        "id": "E3SG2pxrjRpz"
      },
      "execution_count": null,
      "outputs": []
    },
    {
      "cell_type": "markdown",
      "source": [
        "Next, you need to import the Term Extractor, Biterm Extractor and Bitext Reader from the *tm2tb* folder. You also need [Pandas](https://pypi.org/project/pandas/), which is a Python library used for working with data sets. It'll automatically format the extraction results in a tabluar structure, a so-called Pandas DataFrame."
      ],
      "metadata": {
        "id": "RVMM-JIjm-6p"
      }
    },
    {
      "cell_type": "code",
      "source": [
        "from tm2tb import TermExtractor\n",
        "from tm2tb import BitermExtractor\n",
        "from tm2tb import BitextReader\n",
        "import pandas as pd\n",
        "pd.options.display.width = 200 # to display results table in a compact way"
      ],
      "metadata": {
        "id": "o7aCnljqmShA"
      },
      "execution_count": null,
      "outputs": []
    },
    {
      "cell_type": "markdown",
      "source": [
        "Now that you've set everything up, let's start extracting! Run the following code to extract the terms from the TMX file in the *TM2TB* folder."
      ],
      "metadata": {
        "id": "Up8ci0QRo7Me"
      }
    },
    {
      "cell_type": "code",
      "source": [
        "path = '/content/DataLitMT/learning_resources/TM2TB/TM_en-us_de-de - Kopie.tmx'\n",
        "bitext = BitextReader(path).read_bitext() # Read bitext\n",
        "extractor = BitermExtractor(bitext)       # Instantiate extractor with bitext\n",
        "bitext = extractor.extract_terms(incl_pos=('NOUN','ADJ'),span_range=(1,3)) #Extract terms\n",
        "print(bitext)\n",
        "  \n",
        "\n",
        "\n",
        "\n",
        "\n"
      ],
      "metadata": {
        "id": "buaijuOiPTEg"
      },
      "execution_count": null,
      "outputs": []
    },
    {
      "cell_type": "markdown",
      "source": [
        "The results are displayed in a Pandas DataFrame, which indicates the source and target terms and their corresponding part-of-speech (POS) tags, rank, similarity, frequency and biterm rank."
      ],
      "metadata": {
        "id": "_Qc7c3uM4w0f"
      }
    },
    {
      "cell_type": "markdown",
      "source": [
        "Finally, run the next code to save your extraction results as an Excel file in the *tm2tb* folder."
      ],
      "metadata": {
        "id": "h4mA__Rm8WCT"
      }
    },
    {
      "cell_type": "code",
      "source": [
        "bitext.to_excel('biterms.xlsx', sheet_name='sheet1', index=False) #Writes terms into Excel file in the tm2tb folder"
      ],
      "metadata": {
        "id": "USHhMTVw8XLe"
      },
      "execution_count": null,
      "outputs": []
    },
    {
      "cell_type": "markdown",
      "source": [
        "That's it! You can now download your biterms by double-clicking the XLSX file."
      ],
      "metadata": {
        "id": "M6cY8dHg8aAD"
      }
    },
    {
      "cell_type": "markdown",
      "source": [
        "# 3 FAQ"
      ],
      "metadata": {
        "id": "jxM7C4vRHDZD"
      }
    },
    {
      "cell_type": "markdown",
      "source": [
        "## What if the results are not what you expected?\n"
      ],
      "metadata": {
        "id": "sCseLtJr6eH1"
      }
    },
    {
      "cell_type": "markdown",
      "source": [
        "You can always tweak the code a little to narrow down your results. Here are some ideas:"
      ],
      "metadata": {
        "id": "BjFg_ZLi62AL"
      }
    },
    {
      "cell_type": "markdown",
      "source": [
        "*Limit the number of results:*\n",
        "\n",
        "\n",
        "```\n",
        "print(bitext[:10]) #Prints the first 10 results\n",
        "\n",
        "```\n",
        "\n",
        "\n",
        "  "
      ],
      "metadata": {
        "id": "sk16uRlA64cR"
      }
    },
    {
      "cell_type": "markdown",
      "source": [
        "*Limit the result to certain POS tags*\n",
        "\n",
        "`bitext = extractor.extract_terms(incl_pos=('NOUN', 'ADJ') #Extract nouns and adjectives only`\n",
        "\n",
        "`bitext = extractor.extract_terms(excl_pos=('NOUN', 'ADJ') #Extracts everything excluding nouns and adjectives`\n",
        "\n",
        "\n",
        "You can find a list of spaCy's POS tags [here](https://machinelearningknowledge.ai/tutorial-on-spacy-part-of-speech-pos-tagging/?utm_content=cmp-true).\n"
      ],
      "metadata": {
        "id": "-QQ4DQ3m7nq4"
      }
    },
    {
      "cell_type": "markdown",
      "source": [
        "*Define a minimum frequency for your terms*\n",
        "\n",
        "`bitext = extractor.extract_terms(freq_min=3) #Only display terms that are found at least three times` "
      ],
      "metadata": {
        "id": "RVAdPo8B88Wn"
      }
    }
  ]
}
